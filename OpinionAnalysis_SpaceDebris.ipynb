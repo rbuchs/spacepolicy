{
 "cells": [
  {
   "cell_type": "markdown",
   "metadata": {},
   "source": [
    "# Opinion Analysis -- Space debris & Megaconstellations\n",
    "\n",
    "#### Table of Content:\n",
    "* [1. Overview of the question to address](#1-bullet)\n",
    "* [2. Methods and data sources](#2-bullet)\n",
    "    * [2.1 Preliminary dataset](#2.1-bullet)\n",
    "    * [2.2 Methods of analysis](#2.2-bullet)\n",
    "* [3. Data overview](#3-bullet)\n",
    "    * [3.1 Space debris dataset](#3.1-bullet)\n",
    "    * [3.2 Constellation dataset](#3.2-bullet)\n",
    "* [4. Space debris dataset](#4-bullet)\n",
    "    * [4.1 Latent Dirichlet Allocation](#4.1-bullet)\n",
    "    * [4.2 Sentiment Analysis](#4.2-bullet)\n",
    "    * [4.3 Discussion](#4.3-bullet)\n",
    "* [5. Constellation dataset](#5-bullet)\n",
    "    * [5.1 Latent Dirichlet Allocation](#5.1-bullet)\n",
    "    * [5.2 Sentiment Analysis](#5.2-bullet)\n",
    "    * [5.3 Discussion](#5.3-bullet)\n",
    "\n",
    "## 1. Overview of the question to address <a class=\"anchor\" id=\"1-bullet\"></a>\n",
    "The space debris issue can ce divided in two: \n",
    "- `historic debris`, i.e., debris which results from launches unti ~now\n",
    "- `future debris`, which will mainly result from the launch of megaconstellations\n",
    "\n",
    "In this context, the economic viability of Active Debris Removal (ADR) will depend on regulations. Regarding `historic debris`, financing ADR will partly depend on the states willingness to fund this activity. In democratic states, this will depend on public opinion regarding space debris. For `future debris`, the financing will also depend on regulations potentially requiring operators to deorbit their failed satellites. In this case also, public opinion regarding megaconstellations, especially how the tradeoff between benefits (from internet coverage, latency, etc.) outweights the potential costs (space debris generation, night sky pollution) is perceived, can influence the regulators.\n",
    "\n",
    "## 2. Methods and data sources <a class=\"anchor\" id=\"2-bullet\"></a>\n",
    "Addressing these questions using surveys is doable but the questions would be highly specific. Also, I don't have the necessary ressources. I propose to use tweets to adress this question instead. This is motivated by a recent paper by Caleb Pomeroy\n",
    "published in space policy: [\"The Quantitative Analysis of Space Policy: A Review of Current Methods and Future Directions\"](https://www.sciencedirect.com/science/article/abs/pii/S0265964618300353). He advocates for the use of Twitter data to assess public opinion regarding space policy (see section 5.1).\n",
    "\n",
    "### 2.1 Preliminary datasets <a class=\"anchor\" id=\"2.1-bullet\"></a>\n",
    "\n",
    "As preliminary datasets, I have scraped all tweets (original, not the retweets) for which the identified language is English and which where published in December 2019, with the following keywords\n",
    "- `Space debris`\n",
    "- `Megaconstellation` or `Satellite constellation`\n",
    "\n",
    "Each method of obtaining tweets as its advantages and drawbacks; those will be addressed/discussed later.\n",
    "\n",
    "### 2.2 Methods of analysis <a class=\"anchor\" id=\"2.2-bullet\"></a>\n",
    "\n",
    "As a first step to analyze these datasets, we can look at the topic discussed around these keywords. For this, we can use the latent Dirichlet allocation (LDA) topic model [(Blei et al.)](http://jmlr.org/papers/volume3/blei03a/blei03a.pdf) which is employed to reveal a collection of topics that appear in the tweets in an unsupervised fashion, that is, without human intervention such as the handcoding of tweets. We do this in [section 4.1](#4.1-bullet) and [section 5.1](#5.1-bullet).\n",
    "\n",
    "Details on LDA can be found on [wikipedia](https://en.wikipedia.org/wiki/Latent_Dirichlet_allocation) or, e.g., in this [article](https://towardsdatascience.com/light-on-math-machine-learning-intuitive-guide-to-latent-dirichlet-allocation-437c81220158). I haven't dealt with the details yet.\n",
    "\n",
    "We can also look at how each of the topic revealed through LDA is perceived though sentiment analysis [(see section 4.2](#4.2-bullet)[ and 5.2)](#5.2-bullet). This can also be analyzed as a function of time and looking at how external events might shape the online discussion. Apart from the text in the tweets, the geographical localization of the user tweeting, as well as the number of 'likes' and 'retweets' can be analyzed.\n",
    "\n",
    "## 3. Data overview <a class=\"anchor\" id=\"3-bullet\"></a>\n",
    "### 3.1 Space debris dataset <a class=\"anchor\" id=\"3.1-bullet\"></a>\n",
    "\n",
    "\n",
    "Let's first look at the `Space debris` dataset. I show 10 randomly selected tweets with their timestamp, number of likes and retweets."
   ]
  },
  {
   "cell_type": "code",
   "execution_count": 158,
   "metadata": {
    "jupyter": {
     "source_hidden": true
    }
   },
   "outputs": [
    {
     "name": "stdout",
     "output_type": "stream",
     "text": [
      "There are 2142 tweets in this dataset.\n"
     ]
    },
    {
     "data": {
      "text/html": [
       "<div>\n",
       "<style scoped>\n",
       "    .dataframe tbody tr th:only-of-type {\n",
       "        vertical-align: middle;\n",
       "    }\n",
       "\n",
       "    .dataframe tbody tr th {\n",
       "        vertical-align: top;\n",
       "    }\n",
       "\n",
       "    .dataframe thead th {\n",
       "        text-align: right;\n",
       "    }\n",
       "</style>\n",
       "<table border=\"1\" class=\"dataframe\">\n",
       "  <thead>\n",
       "    <tr style=\"text-align: right;\">\n",
       "      <th></th>\n",
       "      <th>text</th>\n",
       "      <th>timestamp</th>\n",
       "      <th>likes</th>\n",
       "      <th>retweets</th>\n",
       "    </tr>\n",
       "  </thead>\n",
       "  <tbody>\n",
       "    <tr>\n",
       "      <th>1702</th>\n",
       "      <td>India, US may conclude water, space debris, S&amp;...</td>\n",
       "      <td>2019-12-11 04:03:47</td>\n",
       "      <td>0</td>\n",
       "      <td>0</td>\n",
       "    </tr>\n",
       "    <tr>\n",
       "      <th>1699</th>\n",
       "      <td>1. I’m thinking how we could feasibly make a p...</td>\n",
       "      <td>2019-12-11 05:34:58</td>\n",
       "      <td>1</td>\n",
       "      <td>0</td>\n",
       "    </tr>\n",
       "    <tr>\n",
       "      <th>776</th>\n",
       "      <td>Watch \"Space Debris Is Now a Big Problem | VIC...</td>\n",
       "      <td>2019-12-29 08:44:18</td>\n",
       "      <td>0</td>\n",
       "      <td>0</td>\n",
       "    </tr>\n",
       "    <tr>\n",
       "      <th>1276</th>\n",
       "      <td>But after this comment India will definitely b...</td>\n",
       "      <td>2019-12-04 05:59:21</td>\n",
       "      <td>1</td>\n",
       "      <td>0</td>\n",
       "    </tr>\n",
       "    <tr>\n",
       "      <th>210</th>\n",
       "      <td>But there a look like the masses were a tyrann...</td>\n",
       "      <td>2019-12-07 10:08:26</td>\n",
       "      <td>0</td>\n",
       "      <td>0</td>\n",
       "    </tr>\n",
       "    <tr>\n",
       "      <th>1261</th>\n",
       "      <td>India is a relatively newcomer in the space ar...</td>\n",
       "      <td>2019-12-04 08:27:41</td>\n",
       "      <td>1</td>\n",
       "      <td>0</td>\n",
       "    </tr>\n",
       "    <tr>\n",
       "      <th>1538</th>\n",
       "      <td>@stefanjfrey at #orbitaldebris2019 presenting ...</td>\n",
       "      <td>2019-12-12 18:46:41</td>\n",
       "      <td>1</td>\n",
       "      <td>0</td>\n",
       "    </tr>\n",
       "    <tr>\n",
       "      <th>1797</th>\n",
       "      <td>European Space Agency to launch space debris c...</td>\n",
       "      <td>2019-12-10 16:39:40</td>\n",
       "      <td>0</td>\n",
       "      <td>0</td>\n",
       "    </tr>\n",
       "    <tr>\n",
       "      <th>348</th>\n",
       "      <td>Sell out event tonight with Wiltshire Wildlife...</td>\n",
       "      <td>2019-12-14 10:41:16</td>\n",
       "      <td>9</td>\n",
       "      <td>0</td>\n",
       "    </tr>\n",
       "    <tr>\n",
       "      <th>426</th>\n",
       "      <td>@SpaceX please stop launching all this space d...</td>\n",
       "      <td>2019-12-27 21:08:31</td>\n",
       "      <td>0</td>\n",
       "      <td>0</td>\n",
       "    </tr>\n",
       "  </tbody>\n",
       "</table>\n",
       "</div>"
      ],
      "text/plain": [
       "                                                   text           timestamp  \\\n",
       "1702  India, US may conclude water, space debris, S&... 2019-12-11 04:03:47   \n",
       "1699  1. I’m thinking how we could feasibly make a p... 2019-12-11 05:34:58   \n",
       "776   Watch \"Space Debris Is Now a Big Problem | VIC... 2019-12-29 08:44:18   \n",
       "1276  But after this comment India will definitely b... 2019-12-04 05:59:21   \n",
       "210   But there a look like the masses were a tyrann... 2019-12-07 10:08:26   \n",
       "1261  India is a relatively newcomer in the space ar... 2019-12-04 08:27:41   \n",
       "1538  @stefanjfrey at #orbitaldebris2019 presenting ... 2019-12-12 18:46:41   \n",
       "1797  European Space Agency to launch space debris c... 2019-12-10 16:39:40   \n",
       "348   Sell out event tonight with Wiltshire Wildlife... 2019-12-14 10:41:16   \n",
       "426   @SpaceX please stop launching all this space d... 2019-12-27 21:08:31   \n",
       "\n",
       "      likes  retweets  \n",
       "1702      0         0  \n",
       "1699      1         0  \n",
       "776       0         0  \n",
       "1276      1         0  \n",
       "210       0         0  \n",
       "1261      1         0  \n",
       "1538      1         0  \n",
       "1797      0         0  \n",
       "348       9         0  \n",
       "426       0         0  "
      ]
     },
     "execution_count": 158,
     "metadata": {},
     "output_type": "execute_result"
    }
   ],
   "source": [
    "import pandas as pd\n",
    "import numpy as np\n",
    "df_debris = pd.read_hdf('../Data/TwitterSpaceDebris.h5', 'data')\n",
    "print('There are {0} tweets in this dataset.'.format(len(df_debris)))\n",
    "df_debris[['text', 'timestamp', 'likes', 'retweets']].iloc[np.random.randint(0, len(df_debris),10)]"
   ]
  },
  {
   "cell_type": "markdown",
   "metadata": {},
   "source": [
    "I then look at how many tweets where published daily."
   ]
  },
  {
   "cell_type": "code",
   "execution_count": 159,
   "metadata": {
    "jupyter": {
     "source_hidden": true
    }
   },
   "outputs": [
    {
     "data": {
      "image/png": "[encoded data removed]",
      "text/plain": [
       "<Figure size 720x576 with 1 Axes>"
      ]
     },
     "metadata": {
      "needs_background": "light"
     },
     "output_type": "display_data"
    }
   ],
   "source": [
    "import datetime\n",
    "import matplotlib.pyplot as plt\n",
    "import matplotlib.dates as mdates\n",
    "\n",
    "import warnings\n",
    "warnings.filterwarnings(\"ignore\")\n",
    "\n",
    "df = df_debris\n",
    "tweet_counts = df.groupby(pd.cut(df['timestamp'], pd.date_range(min(df['timestamp']).date(), max(df['timestamp']).date(), freq='1D'))).count()['timestamp']\n",
    "tweet_counts.index = [np.datetime64(str(x).split(',')[0][1:]) for x in tweet_counts.index]\n",
    "\n",
    "years = mdates.YearLocator()   # every year\n",
    "months = mdates.MonthLocator()  # every month\n",
    "days = mdates.DayLocator()  # every month\n",
    "\n",
    "days_fmt = mdates.DateFormatter('%d-%m')\n",
    "\n",
    "fig, ax = plt.subplots(figsize=(10,8))\n",
    "\n",
    "ax.plot(tweet_counts.index, tweet_counts)\n",
    "\n",
    "plt.grid(True)\n",
    "plt.title('Tweet Counts')\n",
    "plt.ylabel('Counts')\n",
    "\n",
    "# format the ticks\n",
    "ax.xaxis.set_major_locator(days)\n",
    "ax.xaxis.set_major_formatter(days_fmt)\n",
    "\n",
    "#fig.autofmt_xdate()\n",
    "\n",
    "for label in ax.xaxis.get_ticklabels()[::2]:\n",
    "    label.set_visible(False)\n",
    "    \n",
    "plt.xticks(rotation=90)\n",
    "plt.show();"
   ]
  },
  {
   "cell_type": "markdown",
   "metadata": {},
   "source": [
    "### 3.2 Constellation dataset <a class=\"anchor\" id=\"3.2-bullet\"></a>\n",
    "\n",
    "Now, look at the `constellation` dataset."
   ]
  },
  {
   "cell_type": "code",
   "execution_count": 160,
   "metadata": {
    "jupyter": {
     "source_hidden": true
    }
   },
   "outputs": [
    {
     "name": "stdout",
     "output_type": "stream",
     "text": [
      "There are 1273 tweets in this dataset.\n"
     ]
    },
    {
     "data": {
      "text/html": [
       "<div>\n",
       "<style scoped>\n",
       "    .dataframe tbody tr th:only-of-type {\n",
       "        vertical-align: middle;\n",
       "    }\n",
       "\n",
       "    .dataframe tbody tr th {\n",
       "        vertical-align: top;\n",
       "    }\n",
       "\n",
       "    .dataframe thead th {\n",
       "        text-align: right;\n",
       "    }\n",
       "</style>\n",
       "<table border=\"1\" class=\"dataframe\">\n",
       "  <thead>\n",
       "    <tr style=\"text-align: right;\">\n",
       "      <th></th>\n",
       "      <th>text</th>\n",
       "      <th>timestamp</th>\n",
       "      <th>likes</th>\n",
       "      <th>retweets</th>\n",
       "    </tr>\n",
       "  </thead>\n",
       "  <tbody>\n",
       "    <tr>\n",
       "      <th>1127</th>\n",
       "      <td>BBC News - Satellite constellations: Astronome...</td>\n",
       "      <td>2019-12-27 12:35:29</td>\n",
       "      <td>2</td>\n",
       "      <td>3</td>\n",
       "    </tr>\n",
       "    <tr>\n",
       "      <th>399</th>\n",
       "      <td>SpaceX internet satellite constellation for gl...</td>\n",
       "      <td>2019-12-09 16:29:29</td>\n",
       "      <td>0</td>\n",
       "      <td>0</td>\n",
       "    </tr>\n",
       "    <tr>\n",
       "      <th>1118</th>\n",
       "      <td>BBC News - Satellite constellations: Astronome...</td>\n",
       "      <td>2019-12-27 12:49:37</td>\n",
       "      <td>1</td>\n",
       "      <td>0</td>\n",
       "    </tr>\n",
       "    <tr>\n",
       "      <th>68</th>\n",
       "      <td>#Satellite mega-constellations stir a debate o...</td>\n",
       "      <td>2019-12-07 23:06:02</td>\n",
       "      <td>0</td>\n",
       "      <td>0</td>\n",
       "    </tr>\n",
       "    <tr>\n",
       "      <th>175</th>\n",
       "      <td>This Latin American earned the respect of the ...</td>\n",
       "      <td>2019-12-24 22:41:21</td>\n",
       "      <td>1</td>\n",
       "      <td>0</td>\n",
       "    </tr>\n",
       "    <tr>\n",
       "      <th>1139</th>\n",
       "      <td>BBC News - Satellite constellations: Astronome...</td>\n",
       "      <td>2019-12-27 12:18:24</td>\n",
       "      <td>0</td>\n",
       "      <td>0</td>\n",
       "    </tr>\n",
       "    <tr>\n",
       "      <th>53</th>\n",
       "      <td>Notice that these satellites from CASC are men...</td>\n",
       "      <td>2019-12-14 13:22:51</td>\n",
       "      <td>18</td>\n",
       "      <td>9</td>\n",
       "    </tr>\n",
       "    <tr>\n",
       "      <th>604</th>\n",
       "      <td>Satellite constellations: Astronomers warn of ...</td>\n",
       "      <td>2019-12-28 22:42:53</td>\n",
       "      <td>0</td>\n",
       "      <td>0</td>\n",
       "    </tr>\n",
       "    <tr>\n",
       "      <th>787</th>\n",
       "      <td>@MDA_maxar or @csa_asc   can you answer that q...</td>\n",
       "      <td>2019-12-16 18:31:33</td>\n",
       "      <td>1</td>\n",
       "      <td>0</td>\n",
       "    </tr>\n",
       "    <tr>\n",
       "      <th>474</th>\n",
       "      <td>Remarkable achievement by the land of God toda...</td>\n",
       "      <td>2019-12-20 21:56:11</td>\n",
       "      <td>0</td>\n",
       "      <td>0</td>\n",
       "    </tr>\n",
       "  </tbody>\n",
       "</table>\n",
       "</div>"
      ],
      "text/plain": [
       "                                                   text           timestamp  \\\n",
       "1127  BBC News - Satellite constellations: Astronome... 2019-12-27 12:35:29   \n",
       "399   SpaceX internet satellite constellation for gl... 2019-12-09 16:29:29   \n",
       "1118  BBC News - Satellite constellations: Astronome... 2019-12-27 12:49:37   \n",
       "68    #Satellite mega-constellations stir a debate o... 2019-12-07 23:06:02   \n",
       "175   This Latin American earned the respect of the ... 2019-12-24 22:41:21   \n",
       "1139  BBC News - Satellite constellations: Astronome... 2019-12-27 12:18:24   \n",
       "53    Notice that these satellites from CASC are men... 2019-12-14 13:22:51   \n",
       "604   Satellite constellations: Astronomers warn of ... 2019-12-28 22:42:53   \n",
       "787   @MDA_maxar or @csa_asc   can you answer that q... 2019-12-16 18:31:33   \n",
       "474   Remarkable achievement by the land of God toda... 2019-12-20 21:56:11   \n",
       "\n",
       "      likes  retweets  \n",
       "1127      2         3  \n",
       "399       0         0  \n",
       "1118      1         0  \n",
       "68        0         0  \n",
       "175       1         0  \n",
       "1139      0         0  \n",
       "53       18         9  \n",
       "604       0         0  \n",
       "787       1         0  \n",
       "474       0         0  "
      ]
     },
     "execution_count": 160,
     "metadata": {},
     "output_type": "execute_result"
    }
   ],
   "source": [
    "df_const = pd.read_hdf('../Data/TwitterConstellation.h5', 'data')\n",
    "print('There are {0} tweets in this dataset.'.format(len(df_const)))\n",
    "df_const[['text', 'timestamp', 'likes', 'retweets']].iloc[np.random.randint(0, len(df_const),10)]"
   ]
  },
  {
   "cell_type": "code",
   "execution_count": 161,
   "metadata": {
    "jupyter": {
     "source_hidden": true
    }
   },
   "outputs": [
    {
     "data": {
      "image/png": "[encoded data removed]",
      "text/plain": [
       "<Figure size 720x576 with 1 Axes>"
      ]
     },
     "metadata": {
      "needs_background": "light"
     },
     "output_type": "display_data"
    }
   ],
   "source": [
    "df = df_const\n",
    "\n",
    "tweet_counts = df.groupby(pd.cut(df['timestamp'], pd.date_range(min(df['timestamp']).date(), max(df['timestamp']).date(), freq='1D'))).count()['timestamp']\n",
    "tweet_counts.index = [np.datetime64(str(x).split(',')[0][1:]) for x in tweet_counts.index]\n",
    "\n",
    "years = mdates.YearLocator()   # every year\n",
    "months = mdates.MonthLocator()  # every month\n",
    "days = mdates.DayLocator()  # every month\n",
    "\n",
    "days_fmt = mdates.DateFormatter('%d-%m')\n",
    "\n",
    "fig, ax = plt.subplots(figsize=(10,8))\n",
    "\n",
    "ax.plot(tweet_counts.index, tweet_counts)\n",
    "\n",
    "plt.grid(True)\n",
    "plt.title('Tweet Counts')\n",
    "plt.ylabel('Counts')\n",
    "\n",
    "# format the ticks\n",
    "ax.xaxis.set_major_locator(days)\n",
    "ax.xaxis.set_major_formatter(days_fmt)\n",
    "\n",
    "#fig.autofmt_xdate()\n",
    "\n",
    "for label in ax.xaxis.get_ticklabels()[::2]:\n",
    "    label.set_visible(False)\n",
    "    \n",
    "plt.xticks(rotation=90)\n",
    "plt.show();"
   ]
  },
  {
   "cell_type": "markdown",
   "metadata": {},
   "source": [
    "## 4. Space debris dataset <a class=\"anchor\" id=\"4-bullet\"></a>\n",
    "\n",
    "### 4.1 Latent Dirichlet Allocation <a class=\"anchor\" id=\"4.1-bullet\"></a>\n",
    "\n",
    "I perform the LDA in \"details\" with the `Space debris` dataset first.\n",
    "\n",
    "I first remove the special characters, punctuation, '@' mentions, and put the text in lowercase. I then remove the words 'space', 'debris', 'pic', 'twitter', and 'com'.\n",
    "\n",
    "I show 10 randomly selected tweets after this step."
   ]
  },
  {
   "cell_type": "code",
   "execution_count": 162,
   "metadata": {
    "jupyter": {
     "source_hidden": true
    }
   },
   "outputs": [
    {
     "data": {
      "text/plain": [
       "35      space junks space debris is now big problem vi...\n",
       "1843    european space agency to launch collector in b...\n",
       "824     my eve experience wander into in my first crui...\n",
       "2       van flandern who tracked all the for the milit...\n",
       "615     top story esa to send clearspace robot to clea...\n",
       "1272    your odds of being killed by are approximately...\n",
       "1960    european space agency to launch collector in f...\n",
       "2060    new study from sprint partner reveals extent o...\n",
       "1557    esa to launch collector in unexplained mysteri...\n",
       "638     space finally taking major steps to rein in sp...\n",
       "Name: text_processed, dtype: object"
      ]
     },
     "execution_count": 162,
     "metadata": {},
     "output_type": "execute_result"
    }
   ],
   "source": [
    "import re, gensim\n",
    "\n",
    "tweets = df_debris[['text', 'retweets', 'likes']]\n",
    "\n",
    "def clean_tweet(tweet, toremove=[]):\n",
    "        ''' \n",
    "        Utility function to clean tweet text by removing links, special characters \n",
    "        using simple regex statements. \n",
    "        '''\n",
    "        for wordtoremove in toremove:\n",
    "            tweet = re.sub(r'\\b('+wordtoremove+r')\\b', ' ', tweet)\n",
    "        \n",
    "        return ' '.join(re.sub(\"(@[A-Za-z0-9]+)|([^0-9A-Za-z \\t])|(\\w+:\\/\\/\\S+)\", \" \", tweet).split())\n",
    "\n",
    "    \n",
    "toremove = ['space', 'debris', 'pic', 'twitter','com']\n",
    "tweets['text_processed'] = tweets['text'].apply(lambda x: clean_tweet(x, toremove))\n",
    "\n",
    "tweets['text_processed'] = tweets['text_processed'].apply(lambda x: \" \".join(\n",
    "    gensim.utils.simple_preprocess(x, deacc=True, min_len=2, max_len=15)))\n",
    "\n",
    "# Print out the first rows of papers\n",
    "tweets['text_processed'].iloc[np.random.randint(0, len(tweets),10)]"
   ]
  },
  {
   "cell_type": "markdown",
   "metadata": {},
   "source": [
    "I transform the textual data into a simple vector representation (Bag of Words: BOW). I then [lemmatize](https://en.wikipedia.org/wiki/Lemmatisation) the words, keeping only Noun, Adj, Verb, Adverb, Proper Noun."
   ]
  },
  {
   "cell_type": "code",
   "execution_count": 163,
   "metadata": {
    "jupyter": {
     "source_hidden": true
    }
   },
   "outputs": [],
   "source": [
    "import en_core_web_sm\n",
    "nlp = en_core_web_sm.load()\n",
    "\n",
    "def lemmatization(text, allowed_postags=['NOUN', 'ADJ', 'VERB', 'ADV']):\n",
    "    tw = nlp(text) \n",
    "    tw = ' '.join([token.lemma_ if token.lemma_ not in ['-PRON-'] else '' for token in tw if token.pos_ in allowed_postags])\n",
    "    return tw\n",
    "\n",
    "# Do lemmatization keeping only Noun, Adj, Verb, Adverb, Proper Noun\n",
    "tweets['tokens'] = tweets['text_processed'].apply(lambda x: lemmatization(x, allowed_postags=['NOUN', 'ADJ', 'VERB', 'ADV', 'PROPN']))"
   ]
  },
  {
   "cell_type": "markdown",
   "metadata": {},
   "source": [
    "Train the LDA model, with `number_topics=3` (this is one of the parameter which needs to be optimized) and print the model parameters. "
   ]
  },
  {
   "cell_type": "code",
   "execution_count": 164,
   "metadata": {
    "jupyter": {
     "source_hidden": true
    }
   },
   "outputs": [
    {
     "name": "stdout",
     "output_type": "stream",
     "text": [
      "LatentDirichletAllocation(batch_size=128, doc_topic_prior=None,\n",
      "                          evaluate_every=-1, learning_decay=0.7,\n",
      "                          learning_method='online', learning_offset=10.0,\n",
      "                          max_doc_update_iter=100, max_iter=10,\n",
      "                          mean_change_tol=0.001, n_components=3, n_jobs=-1,\n",
      "                          perp_tol=0.1, random_state=100, topic_word_prior=None,\n",
      "                          total_samples=1000000.0, verbose=0)\n"
     ]
    }
   ],
   "source": [
    "# Load the LDA model from sk-learn\n",
    "from sklearn.decomposition import LatentDirichletAllocation\n",
    "from sklearn.feature_extraction.text import CountVectorizer\n",
    "\n",
    "vectorizer = CountVectorizer(analyzer='word',       \n",
    "                             min_df=10,                        # minimum occurences of a word \n",
    "                             stop_words='english',             # remove stop words\n",
    "                             lowercase=True,                   # convert all words to lowercase\n",
    "                             token_pattern='[a-zA-Z0-9]{3,}',  # num chars > 3\n",
    "                             # max_features=50000,             # max number of uniq words\n",
    "                            )\n",
    "\n",
    "data_vectorized = vectorizer.fit_transform(list(tweets['tokens']))\n",
    "\n",
    "# Build LDA Model\n",
    "lda_model = LatentDirichletAllocation(n_components=3,            # Number of topics\n",
    "                                      max_iter=10,               # Max learning iterations\n",
    "                                      learning_method='online',   \n",
    "                                      random_state=100,          # Random state\n",
    "                                      batch_size=128,            # n tweets in each learning iter\n",
    "                                      evaluate_every = -1,       # compute perplexity every n iters, default: Don't\n",
    "                                      n_jobs = -1,               # Use all available CPUs\n",
    "                                     )\n",
    "\n",
    "lda_output = lda_model.fit_transform(data_vectorized)\n",
    "\n",
    "print(lda_model)  # Model attributes"
   ]
  },
  {
   "cell_type": "markdown",
   "metadata": {},
   "source": [
    "Show the top 15 keywords for each topic."
   ]
  },
  {
   "cell_type": "code",
   "execution_count": 165,
   "metadata": {
    "jupyter": {
     "source_hidden": true
    }
   },
   "outputs": [
    {
     "data": {
      "text/html": [
       "<div>\n",
       "<style scoped>\n",
       "    .dataframe tbody tr th:only-of-type {\n",
       "        vertical-align: middle;\n",
       "    }\n",
       "\n",
       "    .dataframe tbody tr th {\n",
       "        vertical-align: top;\n",
       "    }\n",
       "\n",
       "    .dataframe thead th {\n",
       "        text-align: right;\n",
       "    }\n",
       "</style>\n",
       "<table border=\"1\" class=\"dataframe\">\n",
       "  <thead>\n",
       "    <tr style=\"text-align: right;\">\n",
       "      <th></th>\n",
       "      <th>Word 0</th>\n",
       "      <th>Word 1</th>\n",
       "      <th>Word 2</th>\n",
       "      <th>Word 3</th>\n",
       "      <th>Word 4</th>\n",
       "      <th>Word 5</th>\n",
       "      <th>Word 6</th>\n",
       "      <th>Word 7</th>\n",
       "      <th>Word 8</th>\n",
       "      <th>Word 9</th>\n",
       "      <th>Word 10</th>\n",
       "      <th>Word 11</th>\n",
       "      <th>Word 12</th>\n",
       "      <th>Word 13</th>\n",
       "      <th>Word 14</th>\n",
       "    </tr>\n",
       "  </thead>\n",
       "  <tbody>\n",
       "    <tr>\n",
       "      <th>Topic 0</th>\n",
       "      <td>launch</td>\n",
       "      <td>agency</td>\n",
       "      <td>european</td>\n",
       "      <td>collector</td>\n",
       "      <td>space</td>\n",
       "      <td>india</td>\n",
       "      <td>source</td>\n",
       "      <td>science</td>\n",
       "      <td>major</td>\n",
       "      <td>news</td>\n",
       "      <td>orbital</td>\n",
       "      <td>increase</td>\n",
       "      <td>spacedebris</td>\n",
       "      <td>dec</td>\n",
       "      <td>number</td>\n",
       "    </tr>\n",
       "    <tr>\n",
       "      <th>Topic 1</th>\n",
       "      <td>space</td>\n",
       "      <td>satellite</td>\n",
       "      <td>debris</td>\n",
       "      <td>earth</td>\n",
       "      <td>status</td>\n",
       "      <td>clean</td>\n",
       "      <td>spacedebris</td>\n",
       "      <td>problem</td>\n",
       "      <td>orbit</td>\n",
       "      <td>make</td>\n",
       "      <td>big</td>\n",
       "      <td>https</td>\n",
       "      <td>use</td>\n",
       "      <td>year</td>\n",
       "      <td>way</td>\n",
       "    </tr>\n",
       "    <tr>\n",
       "      <th>Topic 2</th>\n",
       "      <td>esa</td>\n",
       "      <td>clearspace</td>\n",
       "      <td>removal</td>\n",
       "      <td>world</td>\n",
       "      <td>junk</td>\n",
       "      <td>mission</td>\n",
       "      <td>plan</td>\n",
       "      <td>robot</td>\n",
       "      <td>european</td>\n",
       "      <td>utm</td>\n",
       "      <td>clear</td>\n",
       "      <td>space</td>\n",
       "      <td>head</td>\n",
       "      <td>tackle</td>\n",
       "      <td>warn</td>\n",
       "    </tr>\n",
       "  </tbody>\n",
       "</table>\n",
       "</div>"
      ],
      "text/plain": [
       "         Word 0      Word 1    Word 2     Word 3  Word 4   Word 5  \\\n",
       "Topic 0  launch      agency  european  collector   space    india   \n",
       "Topic 1   space   satellite    debris      earth  status    clean   \n",
       "Topic 2     esa  clearspace   removal      world    junk  mission   \n",
       "\n",
       "              Word 6   Word 7    Word 8 Word 9  Word 10   Word 11  \\\n",
       "Topic 0       source  science     major   news  orbital  increase   \n",
       "Topic 1  spacedebris  problem     orbit   make      big     https   \n",
       "Topic 2         plan    robot  european    utm    clear     space   \n",
       "\n",
       "             Word 12 Word 13 Word 14  \n",
       "Topic 0  spacedebris     dec  number  \n",
       "Topic 1          use    year     way  \n",
       "Topic 2         head  tackle    warn  "
      ]
     },
     "execution_count": 165,
     "metadata": {},
     "output_type": "execute_result"
    }
   ],
   "source": [
    "# Show top n keywords for each topic\n",
    "def show_topics(vectorizer=vectorizer, lda_model=lda_model, n_words=20):\n",
    "    keywords = np.array(vectorizer.get_feature_names())\n",
    "    topic_keywords = []\n",
    "    for topic_weights in lda_model.components_:\n",
    "        top_keyword_locs = (-topic_weights).argsort()[:n_words]\n",
    "        topic_keywords.append(keywords.take(top_keyword_locs))\n",
    "    return topic_keywords\n",
    "\n",
    "topic_keywords = show_topics(vectorizer=vectorizer, lda_model=lda_model, n_words=15)        \n",
    "\n",
    "# Topic - Keywords Dataframe\n",
    "df_topic_keywords = pd.DataFrame(topic_keywords)\n",
    "df_topic_keywords.columns = ['Word '+str(i) for i in range(df_topic_keywords.shape[1])]\n",
    "df_topic_keywords.index = ['Topic '+str(i) for i in range(df_topic_keywords.shape[0])]\n",
    "df_topic_keywords"
   ]
  },
  {
   "cell_type": "markdown",
   "metadata": {},
   "source": [
    "Look at the dominant topic in each tweet and show the distribution."
   ]
  },
  {
   "cell_type": "code",
   "execution_count": 166,
   "metadata": {
    "jupyter": {
     "source_hidden": true
    }
   },
   "outputs": [
    {
     "data": {
      "text/html": [
       "<div>\n",
       "<style scoped>\n",
       "    .dataframe tbody tr th:only-of-type {\n",
       "        vertical-align: middle;\n",
       "    }\n",
       "\n",
       "    .dataframe tbody tr th {\n",
       "        vertical-align: top;\n",
       "    }\n",
       "\n",
       "    .dataframe thead th {\n",
       "        text-align: right;\n",
       "    }\n",
       "</style>\n",
       "<table border=\"1\" class=\"dataframe\">\n",
       "  <thead>\n",
       "    <tr style=\"text-align: right;\">\n",
       "      <th></th>\n",
       "      <th>Topic Num</th>\n",
       "      <th>Num Documents</th>\n",
       "    </tr>\n",
       "  </thead>\n",
       "  <tbody>\n",
       "    <tr>\n",
       "      <th>0</th>\n",
       "      <td>1</td>\n",
       "      <td>1072</td>\n",
       "    </tr>\n",
       "    <tr>\n",
       "      <th>1</th>\n",
       "      <td>0</td>\n",
       "      <td>649</td>\n",
       "    </tr>\n",
       "    <tr>\n",
       "      <th>2</th>\n",
       "      <td>2</td>\n",
       "      <td>421</td>\n",
       "    </tr>\n",
       "  </tbody>\n",
       "</table>\n",
       "</div>"
      ],
      "text/plain": [
       "   Topic Num  Num Documents\n",
       "0          1           1072\n",
       "1          0            649\n",
       "2          2            421"
      ]
     },
     "execution_count": 166,
     "metadata": {},
     "output_type": "execute_result"
    }
   ],
   "source": [
    "# Create Document - Topic Matrix\n",
    "lda_output = lda_model.transform(data_vectorized)\n",
    "\n",
    "# column names\n",
    "topicnames = [\"Topic \" + str(i) for i in range(lda_model.n_components)]\n",
    "\n",
    "# Make the pandas dataframe\n",
    "df_document_topic = pd.DataFrame(np.round(lda_output, 2), columns=topicnames)\n",
    "\n",
    "# Get dominant topic for each document\n",
    "dominant_topic = np.argmax(df_document_topic.values, axis=1)\n",
    "tweets['dominant_topic'] = dominant_topic\n",
    "\n",
    "df_topic_distribution = tweets['dominant_topic'].value_counts().reset_index(name=\"Num Documents\")\n",
    "df_topic_distribution.columns = ['Topic Num', 'Num Documents']\n",
    "df_topic_distribution"
   ]
  },
  {
   "cell_type": "markdown",
   "metadata": {},
   "source": [
    "Let's visualize it."
   ]
  },
  {
   "cell_type": "code",
   "execution_count": 167,
   "metadata": {
    "jupyter": {
     "source_hidden": true
    }
   },
   "outputs": [
    {
     "data": {
      "text/html": [
       "\n",
       "<link rel=\"stylesheet\" type=\"text/css\" href=\"https://cdn.rawgit.com/bmabey/pyLDAvis/files/ldavis.v1.0.0.css\">\n",
       "\n",
       "\n",
       "<div id=\"ldavis_el5812849095369769463852473\"></div>\n",
       "<script type=\"text/javascript\">\n",
       "\n",
       "var ldavis_el5812849095369769463852473_data = {\"mdsDat\": {\"x\": [-1015.7005615234375, -387.9960021972656, -2184.74560546875], \"y\": [1338.981201171875, -373.316162109375, -60.565799713134766], \"topics\": [1, 2, 3], \"cluster\": [1, 1, 1], \"Freq\": [38.362311005035664, 32.192966671595755, 29.444722323368584]}, \"tinfo\": {\"Category\": [\"Default\", \"Default\", \"Default\", \"Default\", \"Default\", \"Default\", \"Default\", \"Default\", \"Default\", \"Default\", \"Default\", \"Default\", \"Default\", \"Default\", \"Default\", \"Default\", \"Default\", \"Default\", \"Default\", \"Default\", \"Default\", \"Default\", \"Default\", \"Default\", \"Default\", \"Default\", \"Default\", \"Default\", \"Default\", \"Default\", \"Topic1\", \"Topic1\", \"Topic1\", \"Topic1\", \"Topic1\", \"Topic1\", \"Topic1\", \"Topic1\", \"Topic1\", \"Topic1\", \"Topic1\", \"Topic1\", \"Topic1\", \"Topic1\", \"Topic1\", \"Topic1\", \"Topic1\", \"Topic1\", \"Topic1\", \"Topic1\", \"Topic1\", \"Topic1\", \"Topic1\", \"Topic1\", \"Topic1\", \"Topic1\", \"Topic1\", \"Topic1\", \"Topic1\", \"Topic1\", \"Topic1\", \"Topic1\", \"Topic1\", \"Topic1\", \"Topic1\", \"Topic1\", \"Topic1\", \"Topic1\", \"Topic1\", \"Topic1\", \"Topic1\", \"Topic1\", \"Topic1\", \"Topic2\", \"Topic2\", \"Topic2\", \"Topic2\", \"Topic2\", \"Topic2\", \"Topic2\", \"Topic2\", \"Topic2\", \"Topic2\", \"Topic2\", \"Topic2\", \"Topic2\", \"Topic2\", \"Topic2\", \"Topic2\", \"Topic2\", \"Topic2\", \"Topic2\", \"Topic2\", \"Topic2\", \"Topic2\", \"Topic2\", \"Topic2\", \"Topic2\", \"Topic2\", \"Topic2\", \"Topic2\", \"Topic2\", \"Topic2\", \"Topic2\", \"Topic2\", \"Topic2\", \"Topic2\", \"Topic2\", \"Topic2\", \"Topic2\", \"Topic2\", \"Topic2\", \"Topic2\", \"Topic2\", \"Topic2\", \"Topic2\", \"Topic2\", \"Topic3\", \"Topic3\", \"Topic3\", \"Topic3\", \"Topic3\", \"Topic3\", \"Topic3\", \"Topic3\", \"Topic3\", \"Topic3\", \"Topic3\", \"Topic3\", \"Topic3\", \"Topic3\", \"Topic3\", \"Topic3\", \"Topic3\", \"Topic3\", \"Topic3\", \"Topic3\", \"Topic3\", \"Topic3\", \"Topic3\", \"Topic3\", \"Topic3\", \"Topic3\", \"Topic3\", \"Topic3\", \"Topic3\", \"Topic3\", \"Topic3\", \"Topic3\", \"Topic3\", \"Topic3\", \"Topic3\", \"Topic3\", \"Topic3\", \"Topic3\", \"Topic3\", \"Topic3\", \"Topic3\", \"Topic3\"], \"Freq\": [468.0, 454.0, 403.0, 305.0, 278.0, 273.0, 242.0, 225.0, 208.0, 425.0, 245.0, 149.0, 174.0, 175.0, 202.0, 226.0, 273.0, 165.0, 114.0, 110.0, 233.0, 97.0, 94.0, 117.0, 88.0, 94.0, 84.0, 91.0, 83.0, 85.0, 173.51247197498785, 116.74542894299795, 88.80093190668538, 87.44726972500025, 173.7484378342334, 71.83224902214917, 59.02524501729201, 61.61363163827989, 52.478676749349574, 60.48233183638056, 48.41023279759998, 163.56157619044208, 48.26937392341521, 45.89749295036458, 44.953446553500974, 241.51932155965278, 44.01822905854293, 39.60868539856841, 44.557053255300254, 36.612957562152275, 35.37702232214301, 43.76840217516348, 35.63772908783711, 32.34412472730486, 58.47175120382462, 28.159923274179143, 30.16849884838048, 26.17441450749854, 25.609958618627108, 29.466094948303827, 236.62513025061278, 32.309494898315684, 93.95320546575013, 48.23913693339878, 49.73052937616822, 42.223429162932675, 66.25583901925405, 365.7332576504869, 132.8557082806319, 106.0747739279342, 50.759746330674936, 45.82587909691184, 46.8280883031623, 272.1593136660435, 149.06204978407501, 93.44602438960928, 75.44213218001597, 90.90555307576702, 69.13860283432169, 56.07485239756504, 301.6823155626289, 52.7836980556135, 58.50118329724029, 47.57965434678257, 42.23146125113149, 45.73693720448699, 36.17169448662486, 38.12189552216924, 36.57243121564463, 443.8057562170627, 35.891519848914434, 27.36766878888492, 32.07715761556593, 25.207304431132417, 32.04365157680829, 26.07600511218232, 22.274038159916454, 20.753683840908078, 20.274543188559296, 18.44576878478792, 20.2663250683314, 23.175444413016734, 21.59324610075505, 373.8420518555991, 179.2641905781936, 36.188137050784825, 315.70140376616274, 29.220582110571442, 154.39427536410184, 32.71195959556303, 127.31723500897358, 41.896330728220825, 288.3866180987025, 80.26767004676834, 90.2509170300488, 37.543775189644094, 36.85638794232482, 467.8028559246831, 241.8195574333533, 224.76874312140936, 110.06884421708291, 113.96253767993979, 94.21086495725348, 82.73126987135927, 88.08136760439034, 76.81826752015446, 75.8949275279435, 71.55088869136617, 84.01383852696675, 64.13939167427519, 65.84156302353655, 52.430298171412986, 274.60361794603443, 96.2703811994073, 52.40165494333286, 47.24332143358667, 205.4591227639337, 38.59789332204073, 37.33944298169673, 40.2765802966863, 33.43203091137642, 32.40278419189777, 31.41737090547427, 31.417380755832742, 31.417360298762684, 25.01650912455973, 22.87873541657988, 82.72818734466087, 73.79766049053559, 71.84672867802921, 186.79775767662872, 58.920279131583314, 38.887277202078444, 59.2255431066997, 71.51016842468792, 108.8774440261353, 79.13272472533174, 88.18666423967099, 52.666150177828335], \"Term\": [\"esa\", \"launch\", \"agency\", \"collector\", \"clearspace\", \"india\", \"removal\", \"world\", \"junk\", \"european\", \"satellite\", \"major\", \"status\", \"earth\", \"source\", \"mission\", \"debris\", \"clean\", \"plan\", \"robot\", \"science\", \"utm\", \"clear\", \"problem\", \"head\", \"orbital\", \"tackle\", \"increase\", \"warn\", \"tech\", \"status\", \"problem\", \"big\", \"https\", \"earth\", \"use\", \"http\", \"way\", \"vice\", \"know\", \"hbo\", \"clean\", \"country\", \"watch\", \"indian\", \"satellite\", \"protect\", \"propose\", \"nasa\", \"meteor\", \"crore\", \"fall\", \"centre\", \"reveal\", \"just\", \"tightens\", \"china\", \"cap\", \"challenge\", \"set\", \"debris\", \"great\", \"make\", \"don\", \"issue\", \"good\", \"year\", \"space\", \"spacedebris\", \"orbit\", \"time\", \"planet\", \"need\", \"india\", \"major\", \"orbital\", \"number\", \"increase\", \"total\", \"spacejunk\", \"collector\", \"grab\", \"talk\", \"update\", \"awareness\", \"bbc\", \"decay\", \"spacecraft\", \"pakistan\", \"launch\", \"article\", \"pull\", \"conclude\", \"minister\", \"chunk\", \"small\", \"threat\", \"irresponsible\", \"nation\", \"pact\", \"burn\", \"focus\", \"help\", \"agency\", \"source\", \"today\", \"european\", \"grow\", \"science\", \"water\", \"news\", \"want\", \"space\", \"dec\", \"spacedebris\", \"piece\", \"orbit\", \"esa\", \"removal\", \"world\", \"robot\", \"plan\", \"clear\", \"warn\", \"head\", \"official\", \"disaster\", \"commissions\", \"tackle\", \"hug\", \"medium\", \"cnn\", \"clearspace\", \"utm\", \"story\", \"startup\", \"junk\", \"swiss\", \"commission\", \"lead\", \"tnp\", \"intl\", \"scli\", \"scn\", \"hnk\", \"trumpet\", \"botherer\", \"tech\", \"cmp\", \"send\", \"mission\", \"remove\", \"btn\", \"share\", \"dec\", \"european\", \"science\", \"space\", \"orbit\"], \"Total\": [468.0, 454.0, 403.0, 305.0, 278.0, 273.0, 242.0, 225.0, 208.0, 425.0, 245.0, 149.0, 174.0, 175.0, 202.0, 226.0, 273.0, 165.0, 114.0, 110.0, 233.0, 97.0, 94.0, 117.0, 88.0, 94.0, 84.0, 91.0, 83.0, 85.0, 174.27108169486849, 117.42419563247923, 89.45148677419286, 88.17891171512471, 175.29917370953117, 72.54545741030412, 59.67212179577005, 62.30251221962409, 53.11591403571096, 61.25396543040148, 49.04749074566981, 165.79082738820648, 48.95890690318081, 46.57187898619617, 45.631746318623364, 245.23131618602648, 44.74386927009593, 40.26185554675943, 45.34449137044225, 37.260605327937654, 36.04505559802635, 44.64163119449917, 36.357879818882736, 32.999708425530734, 59.72064175951655, 28.795587045270093, 30.884501634610242, 26.80912298449513, 26.251746752175606, 30.232508936571453, 273.9634053854195, 33.604900454741504, 106.05419612165113, 52.74278039613339, 55.12978150130839, 45.69385514939603, 78.46228555598336, 742.3065399888604, 257.8123849370197, 195.59731204808736, 62.56330961927213, 52.9681347663484, 74.6994081305207, 273.1478468112134, 149.7568256817019, 94.1205560116536, 76.10515566693296, 91.75385573390872, 69.79368439401443, 56.78201638740562, 305.57947965995135, 53.46567094646754, 59.26042848396981, 48.251604342230905, 42.8997363292813, 46.54879484781517, 36.82586838256469, 38.8306750996653, 37.27454734024286, 454.56076069218733, 36.78471782206397, 28.05334811042776, 32.88978117286336, 25.896470372110475, 32.9936414049191, 26.86332059526696, 22.989826398658714, 21.42762031571421, 20.991803396310324, 19.11122251635069, 21.038264797715435, 24.07319809402303, 22.432142955405883, 403.6828000948997, 202.84195509660992, 39.280384777513206, 425.00604841721963, 31.73169895808021, 233.93466668228777, 36.5825535520164, 192.84764459194596, 51.527788903638175, 742.3065399888604, 152.12288133906753, 257.8123849370197, 66.21274882154853, 195.59731204808736, 468.9409799327247, 242.4874787234894, 225.6800324127313, 110.73417198122755, 114.77492453960673, 94.92046083276347, 83.39599108005447, 88.80860172054524, 77.47841351186237, 76.58221796098361, 72.20005691631678, 84.8090118045668, 64.81765886820186, 66.55935633457378, 53.07672264683535, 278.0151673624097, 97.47046341745614, 53.12458043128246, 47.90691597257092, 208.42977514948063, 39.26087451235399, 37.9933948413474, 41.03742969732335, 34.09683773701176, 33.051601877619376, 32.06371318839174, 32.063728014582686, 32.063729765666736, 25.668201010816396, 23.530092852254256, 85.1817341868474, 75.93381287618563, 74.26349282166245, 226.32222582137683, 79.71606908549907, 45.226806885717814, 93.4900760570392, 152.12288133906753, 425.00604841721963, 233.93466668228777, 742.3065399888604, 195.59731204808736], \"loglift\": [30.0, 29.0, 28.0, 27.0, 26.0, 25.0, 24.0, 23.0, 22.0, 21.0, 20.0, 19.0, 18.0, 17.0, 16.0, 15.0, 14.0, 13.0, 12.0, 11.0, 10.0, 9.0, 8.0, 7.0, 6.0, 5.0, 4.0, 3.0, 2.0, 1.0, 0.9537, 0.9523, 0.9508, 0.9498, 0.9492, 0.9482, 0.9472, 0.947, 0.946, 0.9454, 0.945, 0.9446, 0.9439, 0.9435, 0.9431, 0.9428, 0.9417, 0.9417, 0.9406, 0.9406, 0.9394, 0.9383, 0.9381, 0.938, 0.937, 0.9358, 0.9346, 0.9341, 0.9333, 0.9324, 0.8116, 0.9188, 0.8369, 0.8688, 0.855, 0.8791, 0.789, 0.2502, 0.2951, 0.3462, 0.749, 0.8133, 0.4911, 1.1298, 1.1288, 1.1262, 1.1247, 1.1241, 1.124, 1.1209, 1.1206, 1.1206, 1.1205, 1.1194, 1.1177, 1.1158, 1.1155, 1.115, 1.1144, 1.1095, 1.1088, 1.1087, 1.1084, 1.1064, 1.1042, 1.1037, 1.1018, 1.1015, 1.0987, 1.098, 1.096, 1.0954, 1.0953, 1.0566, 1.0099, 1.0514, 0.8361, 1.051, 0.7179, 1.0216, 0.7182, 0.9265, 0.188, 0.4941, 0.0838, 0.5661, -0.5356, 1.2202, 1.2199, 1.2186, 1.2166, 1.2156, 1.2152, 1.2147, 1.2144, 1.2141, 1.2136, 1.2136, 1.2132, 1.2121, 1.2118, 1.2104, 1.2103, 1.2103, 1.209, 1.2087, 1.2083, 1.2056, 1.2053, 1.2039, 1.203, 1.2028, 1.2023, 1.2023, 1.2023, 1.1969, 1.1946, 1.1934, 1.1941, 1.1896, 1.0307, 0.9204, 1.0716, 0.7662, 0.4678, -0.1392, 0.1387, -0.9077, -0.0894], \"logprob\": [30.0, 29.0, 28.0, 27.0, 26.0, 25.0, 24.0, 23.0, 22.0, 21.0, 20.0, 19.0, 18.0, 17.0, 16.0, 15.0, 14.0, 13.0, 12.0, 11.0, 10.0, 9.0, 8.0, 7.0, 6.0, 5.0, 4.0, 3.0, 2.0, 1.0, -3.6227, -4.0189, -4.2925, -4.3079, -3.6213, -4.5046, -4.701, -4.658, -4.8185, -4.6766, -4.8992, -3.6817, -4.9021, -4.9525, -4.9733, -3.292, -4.9943, -5.0999, -4.9822, -5.1785, -5.2129, -5.0, -5.2055, -5.3025, -4.7104, -5.441, -5.3721, -5.5141, -5.5359, -5.3957, -3.3124, -5.3036, -4.2361, -4.9028, -4.8723, -5.0359, -4.5854, -2.877, -3.8897, -4.1148, -4.8518, -4.9541, -4.9324, -2.9972, -3.5992, -4.0662, -4.2802, -4.0938, -4.3675, -4.5769, -2.8942, -4.6374, -4.5346, -4.7412, -4.8604, -4.7807, -5.0153, -4.9628, -5.0043, -2.5082, -5.0231, -5.2942, -5.1355, -5.3765, -5.1365, -5.3426, -5.5002, -5.5709, -5.5942, -5.6888, -5.5946, -5.4605, -5.5312, -2.6798, -3.4147, -5.0149, -2.8488, -5.2287, -3.5641, -5.1159, -3.7569, -4.8684, -2.9393, -4.2182, -4.101, -4.9781, -4.9966, -2.3663, -3.0262, -3.0993, -3.8133, -3.7785, -3.9688, -4.0988, -4.0361, -4.1729, -4.185, -4.244, -4.0834, -4.3533, -4.3271, -4.5549, -2.899, -3.9472, -4.5554, -4.6591, -3.1891, -4.8612, -4.8943, -4.8186, -5.0048, -5.0361, -5.067, -5.067, -5.067, -5.2948, -5.3842, -4.0988, -4.213, -4.2398, -3.2843, -4.4382, -4.8537, -4.433, -4.2445, -3.8241, -4.1432, -4.0349, -4.5504]}, \"token.table\": {\"Topic\": [2, 3, 1, 2, 2, 2, 1, 3, 2, 3, 2, 1, 1, 1, 1, 1, 2, 1, 2, 3, 3, 2, 3, 2, 3, 3, 2, 3, 3, 3, 2, 1, 1, 1, 3, 2, 3, 2, 3, 1, 2, 1, 3, 2, 3, 2, 3, 1, 1, 2, 1, 2, 3, 2, 1, 2, 2, 3, 1, 3, 2, 3, 1, 1, 3, 2, 1, 2, 1, 3, 2, 1, 2, 3, 1, 3, 1, 3, 1, 2, 3, 3, 2, 1, 2, 3, 3, 1, 2, 1, 2, 3, 1, 2, 1, 2, 3, 1, 2, 3, 2, 3, 1, 2, 3, 2, 2, 2, 1, 2, 3, 3, 1, 3, 1, 1, 1, 2, 3, 1, 2, 3, 1, 3, 1, 2, 3, 2, 3, 3, 3, 1, 3, 1, 1, 2, 3, 2, 1, 2, 3, 1, 2, 3, 2, 1, 2, 3, 2, 3, 1, 3, 3, 3, 2, 1, 3, 2, 1, 1, 2, 3, 3, 1, 2, 3, 2, 3, 2, 1, 1, 3, 1, 1, 2, 3, 1, 1, 2, 1, 2, 3, 1, 2], \"Freq\": [0.9264699905769538, 0.07183858215703652, 0.02718520242121272, 0.9786672871636578, 0.9790269962879192, 0.9882103317688594, 0.9949527191724318, 0.9774717058881699, 0.13266468303104417, 0.8623204397017872, 0.9506487437201484, 0.9698191177323078, 0.9901567467447079, 0.9904102856639533, 0.971360987297945, 0.030308870358605144, 0.9698838514753646, 0.9891982722058973, 0.006031696781743276, 0.012063393563486551, 0.9903028195956066, 0.010790778173945154, 0.9891546659449725, 0.026338727429124534, 0.9745329148776077, 0.9797138445416138, 0.9882862564464912, 0.013089884191344254, 0.9738534857046701, 0.9972291307671868, 0.9729465766832922, 0.980414045904311, 0.971006963904265, 0.8650790410003178, 0.13505453382705385, 0.5258906437729611, 0.47330157939566503, 0.977573688854118, 0.992397478468432, 0.9100771639168062, 0.07583976365973386, 0.9925888201179779, 0.005704533448953896, 0.0021324645164162498, 0.9979933936828048, 0.743518830324479, 0.2564669383081272, 0.9856270665445972, 0.04153997304779722, 0.9554193800993359, 0.9191607900598675, 0.0656543421471334, 0.021884780715711132, 0.9912902814418285, 0.9522420708580002, 0.029757564714312505, 0.9139126158454681, 0.0630284562652047, 0.9786433366978659, 0.9908950067349368, 0.9807355473676784, 0.9668245156305628, 0.988736418690282, 0.9866304574166965, 0.9873852452791536, 0.9917839340060548, 0.0036610209879895253, 0.9957977087331509, 0.9861555524478025, 0.968183028419828, 0.9800434994920733, 0.9069508102224811, 0.05441704861334887, 0.03627803240889924, 0.014393337026096558, 0.9835446967832648, 0.9711884918041362, 0.016744629169036834, 0.9795284203791463, 0.9767671088104793, 0.02199925920744323, 0.9747199153315634, 0.9949463025925076, 0.8863392815893473, 0.08486227164153325, 0.028287423880511083, 0.9915961276463964, 0.9930058750886085, 0.9653825266830208, 0.07511414284789301, 0.09720653780315566, 0.8262555713268231, 0.9924027955760287, 0.9527528255869312, 0.6291883855073911, 0.22757877773671592, 0.1472568561825809, 0.14519233594605896, 0.6585509523267674, 0.19704674164108002, 0.9854785703117201, 0.9938252025283258, 0.5419297376333067, 0.18916415370219195, 0.2709648688166533, 0.9880944603481214, 0.9418549747196979, 0.9926344554170762, 0.18123398006540206, 0.5739076035404399, 0.25674813842598626, 0.9932483114868935, 0.8684466652056742, 0.13215492731390693, 0.9963874938193582, 0.9934961878134178, 0.9833749453896004, 0.9624519645112799, 0.9979896746584376, 0.22580139997488072, 0.03763356666248012, 0.7401268110287756, 0.9697055376174992, 0.9933699600756304, 0.9868233950040244, 0.008155565247967143, 0.004077782623983572, 0.6583034579015647, 0.33770112450794554, 0.9668250154889472, 0.9668245684313783, 0.026931132970042657, 0.9695207869215358, 0.9592323303647313, 0.08557057965295826, 0.2781043838721144, 0.6310830249405672, 0.9678624765614766, 0.004929946566151555, 0.8824604353411284, 0.11338877102148577, 0.49305776021519687, 0.3879798768906467, 0.11854940682769761, 0.9786077605518515, 0.515879018118118, 0.3490910648919595, 0.13575763634687316, 0.9862277453820912, 0.9810692056844115, 0.9984444826288327, 0.9788312599901448, 0.9933553565580434, 0.9904607802006811, 0.995605356042266, 0.023479212052820744, 0.9743873001920608, 0.9569450250952541, 0.9723712163249412, 0.8151742660412239, 0.015983809138063212, 0.17582190051869534, 0.9678316873408717, 0.025457999092016757, 0.9164879673126032, 0.050915998184033515, 0.9886281344665263, 0.9739677505823325, 0.9947855756163801, 0.992481163814033, 0.010259518267776168, 0.9849137537065121, 0.9789909661544993, 0.17466303506309672, 0.8150941636277846, 0.9952516772697821, 0.9877205086278423, 0.10934173838664478, 0.9020693416898194, 0.9951444619350549, 0.004431052181750692, 0.9969867408939058, 0.8411684611571577, 0.15293972021039232], \"Term\": [\"agency\", \"agency\", \"article\", \"article\", \"awareness\", \"bbc\", \"big\", \"botherer\", \"btn\", \"btn\", \"burn\", \"cap\", \"centre\", \"challenge\", \"china\", \"chunk\", \"chunk\", \"clean\", \"clean\", \"clean\", \"clear\", \"clearspace\", \"clearspace\", \"cmp\", \"cmp\", \"cnn\", \"collector\", \"collector\", \"commission\", \"commissions\", \"conclude\", \"country\", \"crore\", \"debris\", \"debris\", \"dec\", \"dec\", \"decay\", \"disaster\", \"don\", \"don\", \"earth\", \"earth\", \"esa\", \"esa\", \"european\", \"european\", \"fall\", \"focus\", \"focus\", \"good\", \"good\", \"good\", \"grab\", \"great\", \"great\", \"grow\", \"grow\", \"hbo\", \"head\", \"help\", \"hnk\", \"http\", \"https\", \"hug\", \"increase\", \"india\", \"india\", \"indian\", \"intl\", \"irresponsible\", \"issue\", \"issue\", \"issue\", \"junk\", \"junk\", \"just\", \"just\", \"know\", \"launch\", \"launch\", \"lead\", \"major\", \"make\", \"make\", \"make\", \"medium\", \"meteor\", \"minister\", \"mission\", \"mission\", \"mission\", \"nasa\", \"nation\", \"need\", \"need\", \"need\", \"news\", \"news\", \"news\", \"number\", \"official\", \"orbit\", \"orbit\", \"orbit\", \"orbital\", \"pact\", \"pakistan\", \"piece\", \"piece\", \"piece\", \"plan\", \"planet\", \"planet\", \"problem\", \"propose\", \"protect\", \"pull\", \"removal\", \"remove\", \"remove\", \"remove\", \"reveal\", \"robot\", \"satellite\", \"satellite\", \"satellite\", \"science\", \"science\", \"scli\", \"scn\", \"send\", \"send\", \"set\", \"share\", \"share\", \"share\", \"small\", \"source\", \"source\", \"source\", \"space\", \"space\", \"space\", \"spacecraft\", \"spacedebris\", \"spacedebris\", \"spacedebris\", \"spacejunk\", \"startup\", \"status\", \"story\", \"swiss\", \"tackle\", \"talk\", \"tech\", \"tech\", \"threat\", \"tightens\", \"time\", \"time\", \"time\", \"tnp\", \"today\", \"today\", \"today\", \"total\", \"trumpet\", \"update\", \"use\", \"utm\", \"utm\", \"vice\", \"want\", \"want\", \"warn\", \"watch\", \"water\", \"water\", \"way\", \"world\", \"world\", \"year\", \"year\"]}, \"R\": 30, \"lambda.step\": 0.01, \"plot.opts\": {\"xlab\": \"PC1\", \"ylab\": \"PC2\"}, \"topic.order\": [2, 1, 3]};\n",
       "\n",
       "function LDAvis_load_lib(url, callback){\n",
       "  var s = document.createElement('script');\n",
       "  s.src = url;\n",
       "  s.async = true;\n",
       "  s.onreadystatechange = s.onload = callback;\n",
       "  s.onerror = function(){console.warn(\"failed to load library \" + url);};\n",
       "  document.getElementsByTagName(\"head\")[0].appendChild(s);\n",
       "}\n",
       "\n",
       "if(typeof(LDAvis) !== \"undefined\"){\n",
       "   // already loaded: just create the visualization\n",
       "   !function(LDAvis){\n",
       "       new LDAvis(\"#\" + \"ldavis_el5812849095369769463852473\", ldavis_el5812849095369769463852473_data);\n",
       "   }(LDAvis);\n",
       "}else if(typeof define === \"function\" && define.amd){\n",
       "   // require.js is available: use it to load d3/LDAvis\n",
       "   require.config({paths: {d3: \"https://cdnjs.cloudflare.com/ajax/libs/d3/3.5.5/d3.min\"}});\n",
       "   require([\"d3\"], function(d3){\n",
       "      window.d3 = d3;\n",
       "      LDAvis_load_lib(\"https://cdn.rawgit.com/bmabey/pyLDAvis/files/ldavis.v1.0.0.js\", function(){\n",
       "        new LDAvis(\"#\" + \"ldavis_el5812849095369769463852473\", ldavis_el5812849095369769463852473_data);\n",
       "      });\n",
       "    });\n",
       "}else{\n",
       "    // require.js not available: dynamically load d3 & LDAvis\n",
       "    LDAvis_load_lib(\"https://cdnjs.cloudflare.com/ajax/libs/d3/3.5.5/d3.min.js\", function(){\n",
       "         LDAvis_load_lib(\"https://cdn.rawgit.com/bmabey/pyLDAvis/files/ldavis.v1.0.0.js\", function(){\n",
       "                 new LDAvis(\"#\" + \"ldavis_el5812849095369769463852473\", ldavis_el5812849095369769463852473_data);\n",
       "            })\n",
       "         });\n",
       "}\n",
       "</script>"
      ],
      "text/plain": [
       "PreparedData(topic_coordinates=                 x            y  topics  cluster       Freq\n",
       "topic                                                      \n",
       "1     -1015.700562  1338.981201       1        1  38.362311\n",
       "0      -387.996002  -373.316162       2        1  32.192967\n",
       "2     -2184.745605   -60.565800       3        1  29.444722, topic_info=    Category        Freq        Term       Total  loglift  logprob\n",
       "111  Default  468.000000         esa  468.000000  30.0000  30.0000\n",
       "191  Default  454.000000      launch  454.000000  29.0000  29.0000\n",
       "7    Default  403.000000      agency  403.000000  28.0000  28.0000\n",
       "59   Default  305.000000   collector  305.000000  27.0000  27.0000\n",
       "54   Default  278.000000  clearspace  278.000000  26.0000  26.0000\n",
       "..       ...         ...         ...         ...      ...      ...\n",
       "88    Topic3   71.510168         dec  152.122881   0.4678  -4.2445\n",
       "115   Topic3  108.877444    european  425.006048  -0.1392  -3.8241\n",
       "298   Topic3   79.132725     science  233.934667   0.1387  -4.1432\n",
       "317   Topic3   88.186664       space  742.306540  -0.9077  -4.0349\n",
       "242   Topic3   52.666150       orbit  195.597312  -0.0894  -4.5504\n",
       "\n",
       "[159 rows x 6 columns], token_table=      Topic      Freq       Term\n",
       "term                            \n",
       "7         2  0.926470     agency\n",
       "7         3  0.071839     agency\n",
       "17        1  0.027185    article\n",
       "17        2  0.978667    article\n",
       "26        2  0.979027  awareness\n",
       "...     ...       ...        ...\n",
       "391       1  0.995144        way\n",
       "396       2  0.004431      world\n",
       "396       3  0.996987      world\n",
       "398       1  0.841168       year\n",
       "398       2  0.152940       year\n",
       "\n",
       "[184 rows x 3 columns], R=30, lambda_step=0.01, plot_opts={'xlab': 'PC1', 'ylab': 'PC2'}, topic_order=[2, 1, 3])"
      ]
     },
     "execution_count": 167,
     "metadata": {},
     "output_type": "execute_result"
    }
   ],
   "source": [
    "import pyLDAvis\n",
    "import pyLDAvis.sklearn\n",
    "\n",
    "pyLDAvis.enable_notebook()\n",
    "panel = pyLDAvis.sklearn.prepare(lda_model, data_vectorized, vectorizer, mds='tsne')\n",
    "panel"
   ]
  },
  {
   "cell_type": "markdown",
   "metadata": {},
   "source": [
    "### 4.2. Sentiment analysis <a class=\"anchor\" id=\"4.2-bullet\"></a>\n",
    "\n",
    "For the three topics found in the `Space debris` dataset, we look at the sentiment (positive-negative) in the tweets."
   ]
  },
  {
   "cell_type": "code",
   "execution_count": 168,
   "metadata": {
    "jupyter": {
     "source_hidden": true
    }
   },
   "outputs": [],
   "source": [
    "from textblob import TextBlob\n",
    "\n",
    "tweets['polarity'] = tweets['text'].apply(lambda x: TextBlob(x).sentiment.polarity)\n",
    "tweets['subjectivity'] = tweets['text'].apply(lambda x: TextBlob(x).sentiment.subjectivity)"
   ]
  },
  {
   "cell_type": "code",
   "execution_count": 169,
   "metadata": {
    "jupyter": {
     "source_hidden": true
    }
   },
   "outputs": [
    {
     "data": {
      "text/plain": [
       "<matplotlib.legend.Legend at 0x125334130>"
      ]
     },
     "execution_count": 169,
     "metadata": {},
     "output_type": "execute_result"
    },
    {
     "data": {
      "image/png": "[encoded data removed]",
      "text/plain": [
       "<Figure size 720x576 with 1 Axes>"
      ]
     },
     "metadata": {
      "needs_background": "light"
     },
     "output_type": "display_data"
    }
   ],
   "source": [
    "fig, ax = plt.subplots(figsize=(10,8))\n",
    "\n",
    "for topic in tweets['dominant_topic'].unique():\n",
    "    tw = tweets[tweets['dominant_topic']== topic]\n",
    "    ax.hist(tw['polarity'], bins=np.arange(-1,1.05,0.05), density=True, histtype='step', linewidth=2, \n",
    "            label='Topic {0}'.format(topic),\n",
    "           color='C{0}'.format(topic))\n",
    "    ax.axvline(tw['polarity'].mean(), color='C{0}'.format(topic))\n",
    "ft=20\n",
    "ax.set_xlabel('Polarity', fontsize=ft)\n",
    "ax.set_ylabel('Noramlized counts', fontsize=ft)\n",
    "ax.legend(fontsize=ft)"
   ]
  },
  {
   "cell_type": "markdown",
   "metadata": {},
   "source": [
    "### 4.3 Discussion <a class=\"anchor\" id=\"4.3-bullet\"></a>\n",
    "\n",
    "It is hard with this dataset to clearly see different topics. Looking at a longer timespan and in more details at the tweets might yield better results.\n",
    "\n",
    "Topic 0 and 2 are clearly linked to the announcement of the ESA mission ClearSpace-1. However, topic 0 contains the words 'india', 'source', and 'major' which might refer to the accusation by a senior Pakistani politician that India's space programme is becoming a major source of space debris [(see this BBC piece)](https://www.bbc.com/news/50827462). Tweets related to topic 0 are overall less positive than the ones related to topic 2, as expected due to 'India's space programme accusation'.\n",
    "\n",
    "Topic 1 contains the biggest number of tweets and is a general view on space debris. "
   ]
  },
  {
   "cell_type": "markdown",
   "metadata": {},
   "source": [
    "## 5. Constellation dataset <a class=\"anchor\" id=\"5-bullet\"></a>\n",
    "\n",
    "### 5.1 Latent Dirichlet Allocation <a class=\"anchor\" id=\"5.1-bullet\"></a>\n",
    "\n",
    "I do the same as before but with the dataset `Constellation`."
   ]
  },
  {
   "cell_type": "code",
   "execution_count": 170,
   "metadata": {
    "jupyter": {
     "source_hidden": true
    }
   },
   "outputs": [
    {
     "data": {
      "text/plain": [
       "361    ghana all nations university wants to develop ...\n",
       "747    view of night sky under threat astronomers say...\n",
       "873    earth observation startup capella space will l...\n",
       "441    the private sector wants to jump start commerc...\n",
       "921    satellite constellations astronomers warn of t...\n",
       "206    dan hegal explains nasa nasa lasercom infrared...\n",
       "632    satellite constellations astronomers warn of t...\n",
       "716    satellite constellations astronomers warn of t...\n",
       "280    kepler to launch two batches of nanosatellites...\n",
       "662    bbc news satellite constellations astronomers ...\n",
       "Name: text_processed, dtype: object"
      ]
     },
     "execution_count": 170,
     "metadata": {},
     "output_type": "execute_result"
    }
   ],
   "source": [
    "tweets = df_const[['text', 'retweets', 'likes']]\n",
    "\n",
    "toremove = ['megaconstellation', 'constellation', 'satellite', 'pic', 'twitter','com']\n",
    "tweets['text_processed'] = tweets['text'].apply(lambda x: clean_tweet(x, toremove))\n",
    "\n",
    "tweets['text_processed'] = tweets['text_processed'].apply(lambda x: \" \".join(\n",
    "    gensim.utils.simple_preprocess(x, deacc=True, min_len=2, max_len=15)))\n",
    "\n",
    "# Print out the first rows of papers\n",
    "tweets['text_processed'].iloc[np.random.randint(0, len(tweets),10)]"
   ]
  },
  {
   "cell_type": "code",
   "execution_count": 171,
   "metadata": {
    "jupyter": {
     "source_hidden": true
    }
   },
   "outputs": [],
   "source": [
    "# Do lemmatization keeping only Noun, Adj, Verb, Adverb, Proper Noun\n",
    "tweets['tokens'] = tweets['text_processed'].apply(lambda x: lemmatization(x, allowed_postags=['NOUN', 'ADJ', 'VERB', 'ADV', 'PROPN']))"
   ]
  },
  {
   "cell_type": "code",
   "execution_count": 172,
   "metadata": {
    "jupyter": {
     "source_hidden": true
    }
   },
   "outputs": [
    {
     "name": "stdout",
     "output_type": "stream",
     "text": [
      "LatentDirichletAllocation(batch_size=128, doc_topic_prior=None,\n",
      "                          evaluate_every=-1, learning_decay=0.7,\n",
      "                          learning_method='online', learning_offset=10.0,\n",
      "                          max_doc_update_iter=100, max_iter=10,\n",
      "                          mean_change_tol=0.001, n_components=3, n_jobs=-1,\n",
      "                          perp_tol=0.1, random_state=100, topic_word_prior=None,\n",
      "                          total_samples=1000000.0, verbose=0)\n"
     ]
    }
   ],
   "source": [
    "vectorizer = CountVectorizer(analyzer='word',       \n",
    "                             min_df=10,                        # minimum occurences of a word \n",
    "                             stop_words='english',             # remove stop words\n",
    "                             lowercase=True,                   # convert all words to lowercase\n",
    "                             token_pattern='[a-zA-Z0-9]{3,}',  # num chars > 3\n",
    "                             # max_features=50000,             # max number of uniq words\n",
    "                            )\n",
    "\n",
    "data_vectorized = vectorizer.fit_transform(list(tweets['tokens']))\n",
    "\n",
    "# Build LDA Model\n",
    "lda_model = LatentDirichletAllocation(n_components=3,            # Number of topics\n",
    "                                      max_iter=10,               # Max learning iterations\n",
    "                                      learning_method='online',   \n",
    "                                      random_state=100,          # Random state\n",
    "                                      batch_size=128,            # n tweets in each learning iter\n",
    "                                      evaluate_every = -1,       # compute perplexity every n iters, default: Don't\n",
    "                                      n_jobs = -1,               # Use all available CPUs\n",
    "                                     )\n",
    "\n",
    "lda_output = lda_model.fit_transform(data_vectorized)\n",
    "\n",
    "print(lda_model)  # Model attributes"
   ]
  },
  {
   "cell_type": "code",
   "execution_count": 173,
   "metadata": {
    "jupyter": {
     "source_hidden": true
    }
   },
   "outputs": [
    {
     "data": {
      "text/html": [
       "<div>\n",
       "<style scoped>\n",
       "    .dataframe tbody tr th:only-of-type {\n",
       "        vertical-align: middle;\n",
       "    }\n",
       "\n",
       "    .dataframe tbody tr th {\n",
       "        vertical-align: top;\n",
       "    }\n",
       "\n",
       "    .dataframe thead th {\n",
       "        text-align: right;\n",
       "    }\n",
       "</style>\n",
       "<table border=\"1\" class=\"dataframe\">\n",
       "  <thead>\n",
       "    <tr style=\"text-align: right;\">\n",
       "      <th></th>\n",
       "      <th>Word 0</th>\n",
       "      <th>Word 1</th>\n",
       "      <th>Word 2</th>\n",
       "      <th>Word 3</th>\n",
       "      <th>Word 4</th>\n",
       "      <th>Word 5</th>\n",
       "      <th>Word 6</th>\n",
       "      <th>Word 7</th>\n",
       "      <th>Word 8</th>\n",
       "      <th>Word 9</th>\n",
       "      <th>Word 10</th>\n",
       "      <th>Word 11</th>\n",
       "      <th>Word 12</th>\n",
       "      <th>Word 13</th>\n",
       "      <th>Word 14</th>\n",
       "    </tr>\n",
       "  </thead>\n",
       "  <tbody>\n",
       "    <tr>\n",
       "      <th>Topic 0</th>\n",
       "      <td>space</td>\n",
       "      <td>utm</td>\n",
       "      <td>launch</td>\n",
       "      <td>constellation</td>\n",
       "      <td>status</td>\n",
       "      <td>new</td>\n",
       "      <td>global</td>\n",
       "      <td>medium</td>\n",
       "      <td>source</td>\n",
       "      <td>plan</td>\n",
       "      <td>base</td>\n",
       "      <td>news</td>\n",
       "      <td>campaign</td>\n",
       "      <td>gps</td>\n",
       "      <td>html</td>\n",
       "    </tr>\n",
       "    <tr>\n",
       "      <th>Topic 1</th>\n",
       "      <td>constellation</td>\n",
       "      <td>satellite</td>\n",
       "      <td>spacex</td>\n",
       "      <td>starlink</td>\n",
       "      <td>sky</td>\n",
       "      <td>launch</td>\n",
       "      <td>earth</td>\n",
       "      <td>internet</td>\n",
       "      <td>leo</td>\n",
       "      <td>work</td>\n",
       "      <td>night</td>\n",
       "      <td>space</td>\n",
       "      <td>asteroid</td>\n",
       "      <td>killer</td>\n",
       "      <td>hide</td>\n",
       "    </tr>\n",
       "    <tr>\n",
       "      <th>Topic 2</th>\n",
       "      <td>constellation</td>\n",
       "      <td>satellite</td>\n",
       "      <td>astronomer</td>\n",
       "      <td>view</td>\n",
       "      <td>warn</td>\n",
       "      <td>universe</td>\n",
       "      <td>threat</td>\n",
       "      <td>news</td>\n",
       "      <td>bbc</td>\n",
       "      <td>science</td>\n",
       "      <td>environment</td>\n",
       "      <td>space</td>\n",
       "      <td>observation</td>\n",
       "      <td>capella</td>\n",
       "      <td>launch</td>\n",
       "    </tr>\n",
       "  </tbody>\n",
       "</table>\n",
       "</div>"
      ],
      "text/plain": [
       "                Word 0     Word 1      Word 2         Word 3  Word 4  \\\n",
       "Topic 0          space        utm      launch  constellation  status   \n",
       "Topic 1  constellation  satellite      spacex       starlink     sky   \n",
       "Topic 2  constellation  satellite  astronomer           view    warn   \n",
       "\n",
       "           Word 5  Word 6    Word 7  Word 8   Word 9      Word 10 Word 11  \\\n",
       "Topic 0       new  global    medium  source     plan         base    news   \n",
       "Topic 1    launch   earth  internet     leo     work        night   space   \n",
       "Topic 2  universe  threat      news     bbc  science  environment   space   \n",
       "\n",
       "             Word 12  Word 13 Word 14  \n",
       "Topic 0     campaign      gps    html  \n",
       "Topic 1     asteroid   killer    hide  \n",
       "Topic 2  observation  capella  launch  "
      ]
     },
     "execution_count": 173,
     "metadata": {},
     "output_type": "execute_result"
    }
   ],
   "source": [
    "topic_keywords = show_topics(vectorizer=vectorizer, lda_model=lda_model, n_words=15)        \n",
    "\n",
    "# Topic - Keywords Dataframe\n",
    "df_topic_keywords = pd.DataFrame(topic_keywords)\n",
    "df_topic_keywords.columns = ['Word '+str(i) for i in range(df_topic_keywords.shape[1])]\n",
    "df_topic_keywords.index = ['Topic '+str(i) for i in range(df_topic_keywords.shape[0])]\n",
    "df_topic_keywords"
   ]
  },
  {
   "cell_type": "code",
   "execution_count": 174,
   "metadata": {
    "jupyter": {
     "source_hidden": true
    }
   },
   "outputs": [
    {
     "data": {
      "text/html": [
       "<div>\n",
       "<style scoped>\n",
       "    .dataframe tbody tr th:only-of-type {\n",
       "        vertical-align: middle;\n",
       "    }\n",
       "\n",
       "    .dataframe tbody tr th {\n",
       "        vertical-align: top;\n",
       "    }\n",
       "\n",
       "    .dataframe thead th {\n",
       "        text-align: right;\n",
       "    }\n",
       "</style>\n",
       "<table border=\"1\" class=\"dataframe\">\n",
       "  <thead>\n",
       "    <tr style=\"text-align: right;\">\n",
       "      <th></th>\n",
       "      <th>Topic Num</th>\n",
       "      <th>Num Documents</th>\n",
       "    </tr>\n",
       "  </thead>\n",
       "  <tbody>\n",
       "    <tr>\n",
       "      <th>0</th>\n",
       "      <td>2</td>\n",
       "      <td>660</td>\n",
       "    </tr>\n",
       "    <tr>\n",
       "      <th>1</th>\n",
       "      <td>1</td>\n",
       "      <td>401</td>\n",
       "    </tr>\n",
       "    <tr>\n",
       "      <th>2</th>\n",
       "      <td>0</td>\n",
       "      <td>212</td>\n",
       "    </tr>\n",
       "  </tbody>\n",
       "</table>\n",
       "</div>"
      ],
      "text/plain": [
       "   Topic Num  Num Documents\n",
       "0          2            660\n",
       "1          1            401\n",
       "2          0            212"
      ]
     },
     "execution_count": 174,
     "metadata": {},
     "output_type": "execute_result"
    }
   ],
   "source": [
    "# Create Document - Topic Matrix\n",
    "lda_output = lda_model.transform(data_vectorized)\n",
    "\n",
    "# column names\n",
    "topicnames = [\"Topic \" + str(i) for i in range(lda_model.n_components)]\n",
    "\n",
    "# Make the pandas dataframe\n",
    "df_document_topic = pd.DataFrame(np.round(lda_output, 2), columns=topicnames)\n",
    "\n",
    "# Get dominant topic for each document\n",
    "dominant_topic = np.argmax(df_document_topic.values, axis=1)\n",
    "tweets['dominant_topic'] = dominant_topic\n",
    "\n",
    "df_topic_distribution = tweets['dominant_topic'].value_counts().reset_index(name=\"Num Documents\")\n",
    "df_topic_distribution.columns = ['Topic Num', 'Num Documents']\n",
    "df_topic_distribution"
   ]
  },
  {
   "cell_type": "code",
   "execution_count": 175,
   "metadata": {
    "jupyter": {
     "source_hidden": true
    }
   },
   "outputs": [
    {
     "data": {
      "text/html": [
       "\n",
       "<link rel=\"stylesheet\" type=\"text/css\" href=\"https://cdn.rawgit.com/bmabey/pyLDAvis/files/ldavis.v1.0.0.css\">\n",
       "\n",
       "\n",
       "<div id=\"ldavis_el5812847222809288561717338\"></div>\n",
       "<script type=\"text/javascript\">\n",
       "\n",
       "var ldavis_el5812847222809288561717338_data = {\"mdsDat\": {\"x\": [-1015.7005615234375, -387.9960021972656, -2184.74560546875], \"y\": [1338.981201171875, -373.316162109375, -60.565799713134766], \"topics\": [1, 2, 3], \"cluster\": [1, 1, 1], \"Freq\": [52.0256577765022, 26.965661391837116, 21.008680831660687]}, \"tinfo\": {\"Category\": [\"Default\", \"Default\", \"Default\", \"Default\", \"Default\", \"Default\", \"Default\", \"Default\", \"Default\", \"Default\", \"Default\", \"Default\", \"Default\", \"Default\", \"Default\", \"Default\", \"Default\", \"Default\", \"Default\", \"Default\", \"Default\", \"Default\", \"Default\", \"Default\", \"Default\", \"Default\", \"Default\", \"Default\", \"Default\", \"Default\", \"Topic1\", \"Topic1\", \"Topic1\", \"Topic1\", \"Topic1\", \"Topic1\", \"Topic1\", \"Topic1\", \"Topic1\", \"Topic1\", \"Topic1\", \"Topic1\", \"Topic1\", \"Topic1\", \"Topic1\", \"Topic1\", \"Topic1\", \"Topic1\", \"Topic1\", \"Topic1\", \"Topic1\", \"Topic1\", \"Topic1\", \"Topic1\", \"Topic1\", \"Topic1\", \"Topic1\", \"Topic1\", \"Topic1\", \"Topic1\", \"Topic1\", \"Topic1\", \"Topic1\", \"Topic1\", \"Topic1\", \"Topic2\", \"Topic2\", \"Topic2\", \"Topic2\", \"Topic2\", \"Topic2\", \"Topic2\", \"Topic2\", \"Topic2\", \"Topic2\", \"Topic2\", \"Topic2\", \"Topic2\", \"Topic2\", \"Topic2\", \"Topic2\", \"Topic2\", \"Topic2\", \"Topic2\", \"Topic2\", \"Topic2\", \"Topic2\", \"Topic2\", \"Topic2\", \"Topic2\", \"Topic2\", \"Topic2\", \"Topic2\", \"Topic2\", \"Topic2\", \"Topic2\", \"Topic2\", \"Topic2\", \"Topic2\", \"Topic2\", \"Topic2\", \"Topic2\", \"Topic2\", \"Topic2\", \"Topic2\", \"Topic2\", \"Topic2\", \"Topic2\", \"Topic2\", \"Topic2\", \"Topic2\", \"Topic3\", \"Topic3\", \"Topic3\", \"Topic3\", \"Topic3\", \"Topic3\", \"Topic3\", \"Topic3\", \"Topic3\", \"Topic3\", \"Topic3\", \"Topic3\", \"Topic3\", \"Topic3\", \"Topic3\", \"Topic3\", \"Topic3\", \"Topic3\", \"Topic3\", \"Topic3\", \"Topic3\", \"Topic3\", \"Topic3\", \"Topic3\", \"Topic3\", \"Topic3\", \"Topic3\", \"Topic3\", \"Topic3\", \"Topic3\", \"Topic3\", \"Topic3\", \"Topic3\", \"Topic3\", \"Topic3\", \"Topic3\", \"Topic3\", \"Topic3\", \"Topic3\", \"Topic3\", \"Topic3\", \"Topic3\", \"Topic3\", \"Topic3\", \"Topic3\"], \"Freq\": [522.0, 514.0, 500.0, 501.0, 500.0, 188.0, 127.0, 150.0, 336.0, 395.0, 92.0, 189.0, 173.0, 158.0, 796.0, 59.0, 62.0, 61.0, 49.0, 53.0, 47.0, 120.0, 84.0, 117.0, 43.0, 286.0, 70.0, 39.0, 38.0, 47.0, 521.568445172318, 513.4167534929529, 499.78067033926004, 500.3736395621427, 499.015813260289, 188.20330918976617, 172.36409519345113, 157.37027238988426, 116.30920481469649, 119.89124049833148, 53.57967998150399, 52.76509457053394, 39.25801236319235, 39.3594950230019, 36.33925249422975, 37.889234920660954, 33.708043793494234, 19.910376363957187, 14.453157470362331, 16.02365843777249, 10.613342343859987, 8.74711850837923, 9.964534614815669, 354.42971087211, 9.864123742896744, 109.7741537587285, 58.425964657413175, 7.698420113830926, 10.20456028148899, 555.0937284692724, 592.7743914583663, 112.78995493922818, 137.40833765090215, 114.89715193478382, 19.065356385358204, 149.61628680909905, 186.8053014680757, 61.8698306138463, 42.699559389094915, 41.69352712703824, 41.684642609166396, 90.9592812223509, 30.744168813919252, 30.71901413312767, 32.26325663427081, 60.34012014075746, 30.158024586499586, 46.31076435684449, 27.293632338673913, 27.000616887392557, 20.3544952917882, 26.681061310555517, 21.37410321093146, 19.13268631129985, 20.9217700404276, 19.212679270161487, 35.89833385628742, 20.47501228265741, 43.833874295301904, 16.986994412791873, 16.98671843001035, 26.687299142698105, 17.20916033464509, 15.481029379844887, 14.879067603351974, 17.54947559599906, 17.098561703250738, 19.852165911287702, 36.05675991905363, 31.43723816316883, 41.30799638200648, 20.5060339657635, 218.39230190575427, 232.34261621123554, 64.5913583139065, 80.65771952922309, 26.966955081929875, 21.96895507330994, 33.63647417385852, 43.773782677309086, 24.890602997485047, 126.54445716222793, 46.65279991204416, 38.151589945658834, 58.05821097147434, 38.71996367518538, 48.66257756090222, 33.88353592488562, 33.11898358784768, 31.495835799381844, 27.455621267830313, 25.971861106562333, 24.386353261411923, 31.135642372640074, 23.431340575284626, 21.407912259105043, 22.85883446639848, 22.519612808976497, 25.871599402520133, 29.972389206359694, 21.768474130005263, 29.504030711828733, 18.372817368648757, 18.644320058159888, 17.1468256035562, 17.180151003156567, 16.038952556835653, 21.95605218782419, 14.986477385999008, 14.986374502127928, 14.986469490631922, 37.41636549175448, 41.611527715448, 27.583031807648272, 49.97200820378736, 19.390424228801944, 21.80662910860552, 155.1110521814981, 45.03252516965858, 50.27153790416067, 90.78744944713293, 26.972618741317415, 29.44195918304001, 81.03339031886662, 40.42721530615796, 25.836686931749462], \"Term\": [\"astronomer\", \"view\", \"universe\", \"warn\", \"threat\", \"spacex\", \"utm\", \"starlink\", \"space\", \"news\", \"sky\", \"bbc\", \"science\", \"environment\", \"satellite\", \"status\", \"internet\", \"leo\", \"medium\", \"global\", \"source\", \"observation\", \"new\", \"capella\", \"base\", \"launch\", \"plan\", \"campaign\", \"gps\", \"work\", \"astronomer\", \"view\", \"universe\", \"warn\", \"threat\", \"bbc\", \"science\", \"environment\", \"capella\", \"observation\", \"stir\", \"debate\", \"avoid\", \"catastrophic\", \"crash\", \"orbital\", \"astronomy\", \"techcrunch\", \"traffic\", \"management\", \"scientist\", \"radio\", \"begin\", \"news\", \"optical\", \"startup\", \"mega\", \"chief\", \"tech\", \"satellite\", \"constellation\", \"earth\", \"space\", \"launch\", \"impact\", \"starlink\", \"spacex\", \"internet\", \"asteroid\", \"killer\", \"hide\", \"sky\", \"light\", \"small\", \"image\", \"leo\", \"datum\", \"work\", \"look\", \"future\", \"musk\", \"read\", \"company\", \"line\", \"think\", \"elon\", \"communication\", \"low\", \"night\", \"cosmo\", \"skyme\", \"radar\", \"support\", \"apple\", \"spot\", \"change\", \"program\", \"team\", \"make\", \"remote\", \"orbit\", \"technology\", \"satellite\", \"constellation\", \"earth\", \"launch\", \"project\", \"good\", \"new\", \"space\", \"plan\", \"utm\", \"source\", \"gps\", \"status\", \"campaign\", \"medium\", \"commercial\", \"help\", \"want\", \"trueanthem\", \"affordable\", \"japan\", \"http\", \"window\", \"content\", \"develop\", \"today\", \"come\", \"industry\", \"start\", \"navigation\", \"dollar\", \"rocket\", \"sector\", \"trend\", \"dod\", \"https\", \"fuel\", \"jump\", \"travel\", \"html\", \"base\", \"time\", \"global\", \"beidou\", \"private\", \"space\", \"plan\", \"new\", \"launch\", \"article\", \"ground\", \"constellation\", \"news\", \"need\"], \"Total\": [522.0, 514.0, 500.0, 501.0, 500.0, 188.0, 127.0, 150.0, 336.0, 395.0, 92.0, 189.0, 173.0, 158.0, 796.0, 59.0, 62.0, 61.0, 49.0, 53.0, 47.0, 120.0, 84.0, 117.0, 43.0, 286.0, 70.0, 39.0, 38.0, 47.0, 522.3467308675507, 514.1990853179778, 500.55103722327163, 501.2020350088155, 500.249425899802, 189.04597519031216, 173.144696961775, 158.31831286123605, 117.1351502529206, 120.75104127420445, 54.410861662203985, 53.58823803418519, 40.063279474408326, 40.18667473293202, 37.13630643768518, 38.72662880933383, 34.72251795704214, 21.058617647428346, 15.294042351225652, 16.95842813509704, 11.50714008374292, 9.638731993625447, 11.082851463238825, 395.27015639286066, 11.083173303267744, 126.25222731082056, 72.11188725443138, 10.02060438814322, 14.03059891951132, 796.8105405339289, 906.1503979884684, 178.31111035897248, 336.29317250970934, 286.34232091113984, 37.86085545217716, 150.3770293697958, 188.87599730047748, 62.71158433106859, 43.40946697407478, 42.40280103325224, 42.40360430846298, 92.92528713772818, 31.460239939580678, 31.45664366599212, 33.0568314195105, 61.93858531473907, 30.96561762001478, 47.629714055221854, 28.10145853933919, 27.91332708661312, 21.086541178848158, 27.643184423154878, 22.151040045531367, 19.832117306116917, 21.731424263429748, 19.963374712738588, 37.30812914999918, 21.320329522146533, 45.646657034056254, 17.70132225007828, 17.701538485785814, 27.81436113500767, 17.945446105601512, 16.196059706712493, 15.567226104909672, 18.369757846987227, 17.912790880206035, 20.9202089946375, 40.81517368296779, 35.70097764264095, 56.62278657510445, 22.79502715617938, 796.8105405339289, 906.1503979884684, 178.31111035897248, 286.34232091113984, 37.92913946620916, 25.53716124463041, 84.31580174369108, 336.29317250970934, 70.33070915229474, 127.26176179905539, 47.380391419691904, 38.81410076832723, 59.072885733712134, 39.41898699347051, 49.5999654370332, 34.58169854865652, 33.808061158223545, 32.21833629883586, 28.108661901839334, 26.642409078399048, 25.040223272233053, 31.98382550475231, 24.084736790422557, 22.068390868827883, 23.56642892549152, 23.24370026487832, 26.704888911971953, 30.972793437038156, 22.506484727128434, 30.546613455383007, 19.044032056954045, 19.335948335126442, 17.803726322456733, 17.864442670044596, 16.70009337492851, 22.900979898395985, 15.63929873398974, 15.639265724968832, 15.639467179749952, 39.09105747083866, 43.79207412982483, 28.948826356254212, 53.568451425616146, 20.574339856553895, 23.807270674282776, 336.29317250970934, 70.33070915229474, 84.31580174369108, 286.34232091113984, 37.289612174452, 48.83378472821471, 906.1503979884684, 395.27015639286066, 46.666865651359956], \"loglift\": [30.0, 29.0, 28.0, 27.0, 26.0, 25.0, 24.0, 23.0, 22.0, 21.0, 20.0, 19.0, 18.0, 17.0, 16.0, 15.0, 14.0, 13.0, 12.0, 11.0, 10.0, 9.0, 8.0, 7.0, 6.0, 5.0, 4.0, 3.0, 2.0, 1.0, 0.6519, 0.6519, 0.6519, 0.6518, 0.651, 0.649, 0.6489, 0.6474, 0.6464, 0.6463, 0.638, 0.638, 0.6331, 0.6326, 0.6317, 0.6316, 0.6238, 0.5974, 0.5969, 0.5967, 0.5726, 0.5564, 0.5471, 0.5444, 0.5369, 0.5136, 0.443, 0.3898, 0.335, 0.292, 0.229, 0.1954, -0.2416, -0.2597, -0.0326, 1.3055, 1.2996, 1.2971, 1.2941, 1.2937, 1.2935, 1.2892, 1.2876, 1.2869, 1.2863, 1.2845, 1.2842, 1.2825, 1.2814, 1.2774, 1.2753, 1.2752, 1.2749, 1.2747, 1.2726, 1.2723, 1.2721, 1.2702, 1.2701, 1.2694, 1.2694, 1.2692, 1.2687, 1.2655, 1.2654, 1.2649, 1.2641, 1.2582, 1.1866, 1.1834, 0.9953, 1.2048, 0.0163, -0.0504, 0.2952, 0.0436, 0.9695, 1.1601, 0.3916, -0.7283, 0.2719, 1.5546, 1.5448, 1.543, 1.5429, 1.5423, 1.5412, 1.5398, 1.5396, 1.5376, 1.5367, 1.5347, 1.5338, 1.5334, 1.5327, 1.5298, 1.5297, 1.5286, 1.5285, 1.5274, 1.5269, 1.5255, 1.5244, 1.5238, 1.5226, 1.5212, 1.5198, 1.5181, 1.5176, 1.5176, 1.5176, 1.5164, 1.5092, 1.5119, 1.4907, 1.501, 1.4725, 0.7864, 1.1144, 1.0431, 0.4116, 1.2363, 1.0542, -0.8541, -0.7198, 0.969], \"logprob\": [30.0, 29.0, 28.0, 27.0, 26.0, 25.0, 24.0, 23.0, 22.0, 21.0, 20.0, 19.0, 18.0, 17.0, 16.0, 15.0, 14.0, 13.0, 12.0, 11.0, 10.0, 9.0, 8.0, 7.0, 6.0, 5.0, 4.0, 3.0, 2.0, 1.0, -2.4293, -2.445, -2.4719, -2.4707, -2.4735, -3.4486, -3.5365, -3.6275, -3.9298, -3.8995, -4.7049, -4.7202, -5.0159, -5.0134, -5.0932, -5.0514, -5.1684, -5.6949, -6.0152, -5.912, -6.324, -6.5174, -6.3871, -2.8156, -6.3972, -3.9877, -4.6183, -6.6451, -6.3633, -2.367, -2.3013, -3.9606, -3.7631, -3.9421, -5.7382, -3.0208, -2.7989, -3.9039, -4.2747, -4.2986, -4.2988, -3.5185, -4.6032, -4.604, -4.555, -3.9289, -4.6225, -4.1935, -4.7223, -4.7331, -5.0156, -4.745, -4.9667, -5.0775, -4.9881, -5.0733, -4.4482, -5.0097, -4.2485, -5.1965, -5.1965, -4.7447, -5.1835, -5.2893, -5.329, -5.1639, -5.1899, -5.0406, -4.4438, -4.5809, -4.3079, -5.0082, -2.6426, -2.5807, -3.8608, -3.6387, -4.7343, -4.9393, -4.5133, -4.2499, -4.8144, -2.9387, -3.9366, -4.1377, -3.7178, -4.1229, -3.8944, -4.2564, -4.2792, -4.3294, -4.4667, -4.5223, -4.5853, -4.3409, -4.6252, -4.7155, -4.65, -4.6649, -4.5261, -4.379, -4.6988, -4.3948, -4.8684, -4.8537, -4.9375, -4.9355, -5.0043, -4.6902, -5.0721, -5.0721, -5.0721, -4.1572, -4.0509, -4.4621, -3.8678, -4.8145, -4.6971, -2.7351, -3.9719, -3.8619, -3.2708, -4.4845, -4.3969, -3.3844, -4.0798, -4.5275]}, \"token.table\": {\"Topic\": [3, 2, 2, 3, 2, 1, 1, 3, 1, 1, 2, 3, 1, 1, 3, 1, 2, 3, 3, 1, 1, 2, 1, 3, 2, 3, 3, 1, 2, 2, 1, 2, 3, 3, 2, 1, 2, 3, 1, 3, 3, 3, 1, 2, 3, 2, 1, 2, 3, 2, 3, 1, 2, 3, 1, 2, 3, 1, 2, 3, 3, 2, 2, 3, 3, 2, 3, 2, 1, 2, 3, 2, 3, 2, 3, 3, 2, 1, 2, 3, 1, 2, 2, 2, 2, 2, 1, 2, 3, 1, 3, 2, 3, 1, 2, 3, 2, 1, 3, 2, 3, 2, 3, 1, 3, 1, 2, 1, 1, 2, 3, 1, 2, 3, 1, 2, 3, 2, 3, 2, 2, 3, 2, 3, 1, 2, 3, 1, 2, 3, 3, 1, 2, 3, 1, 1, 3, 1, 2, 2, 2, 3, 1, 2, 3, 1, 2, 3, 2, 2, 3, 1, 2, 3, 1, 3, 1, 2, 2, 3, 1, 2, 3, 1, 2, 1, 2, 3, 2, 1, 3, 2, 3, 3, 1, 3, 3, 3, 1, 3, 1, 3, 1, 3, 2, 3], \"Freq\": [0.9758877255991127, 0.9261511918101424, 0.2681711988104622, 0.724062236788248, 0.9905673346710447, 0.9993362055373165, 0.9791916600652054, 0.02879975470780016, 0.973459999072529, 0.04567036478041329, 0.022835182390206644, 0.959077660388679, 0.9944670856427428, 0.9022948681726377, 0.09022948681726377, 0.04860423260100143, 0.04860423260100143, 0.9234804194190273, 0.9893709345311203, 0.9903090553905505, 0.9704709399118417, 0.9798713815355018, 0.7983550382914947, 0.19958875957287367, 0.03744632689903062, 0.9736044993747962, 0.9831790058594703, 0.02680380986083356, 0.9649371549900081, 0.9480367493731486, 0.654416751696385, 0.256028138943611, 0.08938913471738143, 0.9515872781491735, 0.960380233737896, 0.9694017379032591, 0.9688164585682073, 0.032293881952273576, 0.9890230010210461, 0.9759645838882777, 0.9580784754186138, 0.9451779930934946, 0.6337238311875832, 0.3645314073202912, 0.0056081754972352495, 0.9517428928424682, 0.9916730235598737, 0.006316388685094737, 0.9591222889936671, 0.9672798916525025, 0.0358251811723149, 0.018667704094238673, 0.05600311228271602, 0.9333852047119336, 0.11747586081561032, 0.8614896459811423, 0.9790256439744304, 0.061432879239169215, 0.32764202260890246, 0.5938511659786357, 0.9760985655331793, 0.9904818395736603, 0.025581298248224287, 0.9465080351842986, 0.969239905195014, 0.04366625377764038, 0.9606575831080882, 0.968029863295163, 0.5018375779701887, 0.4754250738664945, 0.02641250410369414, 0.03228640006374663, 0.968592001912399, 0.9886530640445634, 0.958457907466562, 0.959124313365415, 0.9905006031809935, 0.40161719592853257, 0.2828781988714012, 0.31780143329996924, 0.01614502486484846, 0.9687014918909076, 0.9853707428657706, 0.958041933028489, 0.9608042216813316, 0.9380718050921756, 0.024500692016344427, 0.8820249125883993, 0.09800276806537771, 0.9434836691548384, 0.0589677293221774, 0.020161304371663177, 0.9879039142114958, 0.8043056728685993, 0.11093871349911714, 0.08320403512433786, 0.9484722899961392, 0.03273685318539877, 0.982105595561963, 0.42856960116877196, 0.5571404815194035, 0.40324588388965943, 0.5930086527789109, 0.8955900016093244, 0.10119661035133609, 0.021907409325811433, 0.963926010335703, 0.9937802501222415, 0.9022686667771961, 0.09022686667771962, 0.09022686667771962, 0.017660734493764277, 0.7240901142443353, 0.24725028291269988, 0.9812369722933719, 0.3554634995342472, 0.639834299161645, 0.08400794981343457, 0.9240874479477802, 0.9490425089920138, 0.7118537456947616, 0.2636495354425043, 0.9707215588718772, 0.03595265032858804, 0.9337327779164447, 0.976732621925565, 0.036175282293539446, 0.084031312252268, 0.8683235599401026, 0.02801043741742266, 0.9826257120000602, 0.6965269305148801, 0.2735907582923313, 0.028865080003319356, 0.993388784168032, 0.9559282254276718, 0.9548562863807364, 0.021522666882220362, 0.9792813431410264, 0.9603685020740348, 0.9854833951504559, 0.9919715433263853, 0.4073826387184372, 0.13083821973438858, 0.4609073649734144, 0.005294478993056636, 0.990067571701591, 0.010588957986113272, 0.9635628016778932, 0.9974927728564937, 0.9774960535477165, 0.8712717576791008, 0.00792065234253728, 0.12673043748059648, 0.016928240216802424, 0.9818379325745407, 0.9924489035892371, 0.9473155417793487, 0.9560133938014971, 0.047800669690074855, 0.7127279496311264, 0.07127279496311263, 0.14254558992622526, 0.9497299554437932, 0.04748649777218966, 0.04386921731430864, 0.9212535636004814, 0.04386921731430864, 0.9663425528597033, 0.9975023941355762, 0.00199900279385887, 0.0345437147500785, 0.9672240130021982, 0.9895154273157378, 0.9153891220183558, 0.95911195871315, 0.9516109913972235, 0.9605579978971968, 0.9988991387844716, 0.9979431229353188, 0.9976680524096297, 0.9621850027408188, 0.9976016956738925, 0.9549616506145955, 0.9657836691328366, 0.020995297155061664], \"Term\": [\"affordable\", \"apple\", \"article\", \"article\", \"asteroid\", \"astronomer\", \"astronomy\", \"astronomy\", \"avoid\", \"base\", \"base\", \"base\", \"bbc\", \"begin\", \"begin\", \"beidou\", \"beidou\", \"beidou\", \"campaign\", \"capella\", \"catastrophic\", \"change\", \"chief\", \"chief\", \"come\", \"come\", \"commercial\", \"communication\", \"communication\", \"company\", \"constellation\", \"constellation\", \"constellation\", \"content\", \"cosmo\", \"crash\", \"datum\", \"datum\", \"debate\", \"develop\", \"dod\", \"dollar\", \"earth\", \"earth\", \"earth\", \"elon\", \"environment\", \"environment\", \"fuel\", \"future\", \"future\", \"global\", \"global\", \"global\", \"good\", \"good\", \"gps\", \"ground\", \"ground\", \"ground\", \"help\", \"hide\", \"html\", \"html\", \"http\", \"https\", \"https\", \"image\", \"impact\", \"impact\", \"impact\", \"industry\", \"industry\", \"internet\", \"japan\", \"jump\", \"killer\", \"launch\", \"launch\", \"launch\", \"leo\", \"leo\", \"light\", \"line\", \"look\", \"low\", \"make\", \"make\", \"make\", \"management\", \"management\", \"medium\", \"medium\", \"mega\", \"mega\", \"mega\", \"musk\", \"navigation\", \"navigation\", \"need\", \"need\", \"new\", \"new\", \"news\", \"news\", \"night\", \"night\", \"observation\", \"optical\", \"optical\", \"optical\", \"orbit\", \"orbit\", \"orbit\", \"orbital\", \"plan\", \"plan\", \"private\", \"private\", \"program\", \"project\", \"project\", \"radar\", \"radar\", \"radio\", \"read\", \"read\", \"remote\", \"remote\", \"remote\", \"rocket\", \"satellite\", \"satellite\", \"satellite\", \"science\", \"scientist\", \"sector\", \"sky\", \"sky\", \"skyme\", \"small\", \"source\", \"space\", \"space\", \"space\", \"spacex\", \"spacex\", \"spacex\", \"spot\", \"starlink\", \"start\", \"startup\", \"startup\", \"startup\", \"status\", \"status\", \"stir\", \"support\", \"team\", \"team\", \"tech\", \"tech\", \"tech\", \"techcrunch\", \"techcrunch\", \"technology\", \"technology\", \"technology\", \"think\", \"threat\", \"threat\", \"time\", \"time\", \"today\", \"traffic\", \"travel\", \"trend\", \"trueanthem\", \"universe\", \"utm\", \"view\", \"want\", \"warn\", \"window\", \"work\", \"work\"]}, \"R\": 30, \"lambda.step\": 0.01, \"plot.opts\": {\"xlab\": \"PC1\", \"ylab\": \"PC2\"}, \"topic.order\": [3, 2, 1]};\n",
       "\n",
       "function LDAvis_load_lib(url, callback){\n",
       "  var s = document.createElement('script');\n",
       "  s.src = url;\n",
       "  s.async = true;\n",
       "  s.onreadystatechange = s.onload = callback;\n",
       "  s.onerror = function(){console.warn(\"failed to load library \" + url);};\n",
       "  document.getElementsByTagName(\"head\")[0].appendChild(s);\n",
       "}\n",
       "\n",
       "if(typeof(LDAvis) !== \"undefined\"){\n",
       "   // already loaded: just create the visualization\n",
       "   !function(LDAvis){\n",
       "       new LDAvis(\"#\" + \"ldavis_el5812847222809288561717338\", ldavis_el5812847222809288561717338_data);\n",
       "   }(LDAvis);\n",
       "}else if(typeof define === \"function\" && define.amd){\n",
       "   // require.js is available: use it to load d3/LDAvis\n",
       "   require.config({paths: {d3: \"https://cdnjs.cloudflare.com/ajax/libs/d3/3.5.5/d3.min\"}});\n",
       "   require([\"d3\"], function(d3){\n",
       "      window.d3 = d3;\n",
       "      LDAvis_load_lib(\"https://cdn.rawgit.com/bmabey/pyLDAvis/files/ldavis.v1.0.0.js\", function(){\n",
       "        new LDAvis(\"#\" + \"ldavis_el5812847222809288561717338\", ldavis_el5812847222809288561717338_data);\n",
       "      });\n",
       "    });\n",
       "}else{\n",
       "    // require.js not available: dynamically load d3 & LDAvis\n",
       "    LDAvis_load_lib(\"https://cdnjs.cloudflare.com/ajax/libs/d3/3.5.5/d3.min.js\", function(){\n",
       "         LDAvis_load_lib(\"https://cdn.rawgit.com/bmabey/pyLDAvis/files/ldavis.v1.0.0.js\", function(){\n",
       "                 new LDAvis(\"#\" + \"ldavis_el5812847222809288561717338\", ldavis_el5812847222809288561717338_data);\n",
       "            })\n",
       "         });\n",
       "}\n",
       "</script>"
      ],
      "text/plain": [
       "PreparedData(topic_coordinates=                 x            y  topics  cluster       Freq\n",
       "topic                                                      \n",
       "2     -1015.700562  1338.981201       1        1  52.025658\n",
       "1      -387.996002  -373.316162       2        1  26.965661\n",
       "0     -2184.745605   -60.565800       3        1  21.008681, topic_info=    Category        Freq           Term       Total  loglift  logprob\n",
       "11   Default  522.000000     astronomer  522.000000  30.0000  30.0000\n",
       "199  Default  514.000000           view  514.000000  29.0000  29.0000\n",
       "194  Default  500.000000       universe  500.000000  28.0000  28.0000\n",
       "201  Default  501.000000           warn  501.000000  27.0000  27.0000\n",
       "186  Default  500.000000         threat  500.000000  26.0000  26.0000\n",
       "..       ...         ...            ...         ...      ...      ...\n",
       "9     Topic3   26.972619        article   37.289612   1.2363  -4.4845\n",
       "81    Topic3   29.441959         ground   48.833785   1.0542  -4.3969\n",
       "43    Topic3   81.033390  constellation  906.150398  -0.8541  -3.3844\n",
       "125   Topic3   40.427215           news  395.270156  -0.7198  -4.0798\n",
       "122   Topic3   25.836687           need   46.666866   0.9690  -4.5275\n",
       "\n",
       "[156 rows x 6 columns], token_table=      Topic      Freq        Term\n",
       "term                             \n",
       "2         3  0.975888  affordable\n",
       "8         2  0.926151       apple\n",
       "9         2  0.268171     article\n",
       "9         3  0.724062     article\n",
       "10        2  0.990567    asteroid\n",
       "...     ...       ...         ...\n",
       "200       3  0.962185        want\n",
       "201       1  0.997602        warn\n",
       "205       3  0.954962      window\n",
       "206       2  0.965784        work\n",
       "206       3  0.020995        work\n",
       "\n",
       "[186 rows x 3 columns], R=30, lambda_step=0.01, plot_opts={'xlab': 'PC1', 'ylab': 'PC2'}, topic_order=[3, 2, 1])"
      ]
     },
     "execution_count": 175,
     "metadata": {},
     "output_type": "execute_result"
    }
   ],
   "source": [
    "pyLDAvis.enable_notebook()\n",
    "panel = pyLDAvis.sklearn.prepare(lda_model, data_vectorized, vectorizer, mds='tsne')\n",
    "panel"
   ]
  },
  {
   "cell_type": "markdown",
   "metadata": {},
   "source": [
    "### 5.2. Sentiment analysis <a class=\"anchor\" id=\"5.2-bullet\"></a>\n",
    "\n",
    "For the three topics found in the `Constellation` dataset, we look at the sentiment (positive-negative) in the tweets."
   ]
  },
  {
   "cell_type": "code",
   "execution_count": 176,
   "metadata": {
    "jupyter": {
     "source_hidden": true
    }
   },
   "outputs": [],
   "source": [
    "tweets['polarity'] = tweets['text'].apply(lambda x: TextBlob(x).sentiment.polarity)\n",
    "tweets['subjectivity'] = tweets['text'].apply(lambda x: TextBlob(x).sentiment.subjectivity)"
   ]
  },
  {
   "cell_type": "code",
   "execution_count": 177,
   "metadata": {
    "jupyter": {
     "source_hidden": true
    }
   },
   "outputs": [
    {
     "data": {
      "text/plain": [
       "<matplotlib.legend.Legend at 0x11a2c5c10>"
      ]
     },
     "execution_count": 177,
     "metadata": {},
     "output_type": "execute_result"
    },
    {
     "data": {
      "image/png": "[encoded data removed]",
      "text/plain": [
       "<Figure size 720x576 with 1 Axes>"
      ]
     },
     "metadata": {
      "needs_background": "light"
     },
     "output_type": "display_data"
    }
   ],
   "source": [
    "fig, ax = plt.subplots(figsize=(10,8))\n",
    "\n",
    "for topic in tweets['dominant_topic'].unique():\n",
    "    tw = tweets[tweets['dominant_topic']== topic]\n",
    "    ax.hist(tw['polarity'], bins=np.arange(-1,1.05,0.05), density=True, histtype='step', linewidth=2, \n",
    "            label='Topic {0}'.format(topic),\n",
    "           color='C{0}'.format(topic))\n",
    "    ax.axvline(tw['polarity'].mean(), color='C{0}'.format(topic))\n",
    "\n",
    "\n",
    "ft=20\n",
    "ax.set_xlabel('Polarity', fontsize=ft)\n",
    "ax.set_ylabel('Noramlized counts', fontsize=ft)\n",
    "ax.legend(fontsize=ft)"
   ]
  },
  {
   "cell_type": "markdown",
   "metadata": {},
   "source": [
    "### 5.3 Discussion <a class=\"anchor\" id=\"5.3-bullet\"></a>\n",
    "\n",
    "Topic 2, which has the most tweets, and is focused on the issue of impact constelaltions might have on the night sky and astronomy observations. It is also merged with the launch announcement of part of the Capella constellation [(SpaceNews)](https://spacenews.com/capella-space-to-launch-seven-radar-satellites-in-2020-as-it-prepares-for-commercial-operations/).\n",
    "\n",
    "Disentangling topic 0 and 1, is quite hard from this analysis. Further analysis could look at where space debris enters the topic."
   ]
  },
  {
   "cell_type": "code",
   "execution_count": null,
   "metadata": {},
   "outputs": [],
   "source": []
  }
 ],
 "metadata": {
  "kernelspec": {
   "display_name": "Python 3",
   "language": "python",
   "name": "python3"
  },
  "language_info": {
   "codemirror_mode": {
    "name": "ipython",
    "version": 3
   },
   "file_extension": ".py",
   "mimetype": "text/x-python",
   "name": "python",
   "nbconvert_exporter": "python",
   "pygments_lexer": "ipython3",
   "version": "3.8.1"
  }
 },
 "nbformat": 4,
 "nbformat_minor": 4
}
